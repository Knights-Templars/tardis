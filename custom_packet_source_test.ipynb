{
 "cells": [
  {
   "cell_type": "code",
   "execution_count": 37,
   "metadata": {},
   "outputs": [],
   "source": [
    "import numpy as np\n",
    "import pandas as pd\n",
    "import matplotlib.pyplot as plt"
   ]
  },
  {
   "cell_type": "code",
   "execution_count": 38,
   "metadata": {},
   "outputs": [],
   "source": [
    "from tardis import constants as cons\n",
    "from tardis.montecarlo.packet_source import BasePacketSource\n",
    "from tardis import run_tardis\n",
    "from tardis.io.config_reader import Configuration\n",
    "from tardis.io.atom_data import AtomData"
   ]
  },
  {
   "cell_type": "code",
   "execution_count": 39,
   "metadata": {},
   "outputs": [],
   "source": [
    "config = Configuration.from_yaml(\"/Users/anirbandutta/Downloads/tardis/docs/tardis_example.yml\")\n",
    "\n",
    "config.atom_data = '/Users/anirbandutta/Downloads/kurucz_cd23_chianti_H_He.h5'"
   ]
  },
  {
   "cell_type": "code",
   "execution_count": 40,
   "metadata": {},
   "outputs": [],
   "source": [
    "from astropy import units as u"
   ]
  },
  {
   "cell_type": "code",
   "execution_count": 41,
   "metadata": {},
   "outputs": [],
   "source": [
    "class truncblackbodysource(BasePacketSource):\n",
    "\n",
    "    def __init__(self, base_seed, truncation_wavelength):\n",
    "        super().__init__(base_seed)\n",
    "        self.truncation_wavelength = truncation_wavelength\n",
    "\n",
    "    def create_packets(self, T, no_of_packets, radius, drawing_sample_size=None):\n",
    "\n",
    "        radii = np.ones(no_of_packets) * radius\n",
    "        mus = self.create_zero_limb_darkening_packet_mus(no_of_packets)\n",
    "        energies = self.create_uniform_packet_energies(no_of_packets)\n",
    "\n",
    "        if drawing_sample_size is None:\n",
    "            drawing_sample_size = 2 * no_of_packets\n",
    "\n",
    "        truncation_frequency = u.Quantity(self.truncation_wavelength, u.Angstrom).to(u.Hz, equivalencies=u.spectral()).value\n",
    "\n",
    "\n",
    "        nus = self.create_blackbody_packet_nus(T, drawing_sample_size)\n",
    "        nus = nus[nus < truncation_frequency][:no_of_packets]\n",
    "\n",
    "        while nus.shape[0] < no_of_packets:\n",
    "            additional_nus = self.create_blackbody_packet_nus(T, drawing_sample_size)\n",
    "            mask = additional_nus < truncation_frequency\n",
    "            additional_nus = additional_nus[mask][:no_of_packets]\n",
    "            nus = np.hstack([nus, additional_nus])[:no_of_packets]\n",
    "\n",
    "        return radii, nus, mus, energies\n"
   ]
  },
  {
   "cell_type": "code",
   "execution_count": 24,
   "metadata": {},
   "outputs": [],
   "source": [
    "packet_source = truncblackbodysource(base_seed=2537, truncation_wavelength=2000)"
   ]
  },
  {
   "cell_type": "code",
   "execution_count": 34,
   "metadata": {},
   "outputs": [
    {
     "ename": "TypeError",
     "evalue": "concatenate() got an unexpected keyword argument 'dtype'",
     "output_type": "error",
     "traceback": [
      "\u001b[0;31m---------------------------------------------------------------------------\u001b[0m",
      "\u001b[0;31mTypeError\u001b[0m                                 Traceback (most recent call last)",
      "Cell \u001b[0;32mIn[34], line 1\u001b[0m\n\u001b[0;32m----> 1\u001b[0m model_customised \u001b[39m=\u001b[39m run_tardis(\u001b[39m'\u001b[39m\u001b[39m/Users/anirbandutta/Downloads/tardis/docs/tardis_example.yml\u001b[39m\u001b[39m'\u001b[39m,\n\u001b[1;32m      2\u001b[0m                               packet_source\u001b[39m=\u001b[39mpacket_source, show_convergence_plots\u001b[39m=\u001b[39m\u001b[39mFalse\u001b[39;00m, \n\u001b[1;32m      3\u001b[0m                               atom_data\u001b[39m=\u001b[39matom_data)\n",
      "File \u001b[0;32m~/Downloads/tardis/tardis/base.py:103\u001b[0m, in \u001b[0;36mrun_tardis\u001b[0;34m(config, atom_data, packet_source, simulation_callbacks, virtual_packet_logging, show_convergence_plots, log_level, specific_log_level, show_progress_bars, **kwargs)\u001b[0m\n\u001b[1;32m     98\u001b[0m         logger\u001b[39m.\u001b[39mdebug(\n\u001b[1;32m     99\u001b[0m             \u001b[39m\"\u001b[39m\u001b[39mAtom Data Cannot be Read from HDF. Setting to Default Atom Data\u001b[39m\u001b[39m\"\u001b[39m\n\u001b[1;32m    100\u001b[0m         )\n\u001b[1;32m    101\u001b[0m         atom_data \u001b[39m=\u001b[39m atom_data\n\u001b[0;32m--> 103\u001b[0m simulation \u001b[39m=\u001b[39m Simulation\u001b[39m.\u001b[39mfrom_config(\n\u001b[1;32m    104\u001b[0m     tardis_config,\n\u001b[1;32m    105\u001b[0m     packet_source\u001b[39m=\u001b[39mpacket_source,\n\u001b[1;32m    106\u001b[0m     atom_data\u001b[39m=\u001b[39matom_data,\n\u001b[1;32m    107\u001b[0m     virtual_packet_logging\u001b[39m=\u001b[39mvirtual_packet_logging,\n\u001b[1;32m    108\u001b[0m     show_convergence_plots\u001b[39m=\u001b[39mshow_convergence_plots,\n\u001b[1;32m    109\u001b[0m     show_progress_bars\u001b[39m=\u001b[39mshow_progress_bars,\n\u001b[1;32m    110\u001b[0m     \u001b[39m*\u001b[39m\u001b[39m*\u001b[39mkwargs,\n\u001b[1;32m    111\u001b[0m )\n\u001b[1;32m    112\u001b[0m \u001b[39mfor\u001b[39;00m cb \u001b[39min\u001b[39;00m simulation_callbacks:\n\u001b[1;32m    113\u001b[0m     simulation\u001b[39m.\u001b[39madd_callback(\u001b[39m*\u001b[39mcb)\n",
      "File \u001b[0;32m~/Downloads/tardis/tardis/simulation/base.py:658\u001b[0m, in \u001b[0;36mSimulation.from_config\u001b[0;34m(cls, config, packet_source, virtual_packet_logging, show_convergence_plots, show_progress_bars, **kwargs)\u001b[0m\n\u001b[1;32m    656\u001b[0m     plasma \u001b[39m=\u001b[39m kwargs[\u001b[39m\"\u001b[39m\u001b[39mplasma\u001b[39m\u001b[39m\"\u001b[39m]\n\u001b[1;32m    657\u001b[0m \u001b[39melse\u001b[39;00m:\n\u001b[0;32m--> 658\u001b[0m     plasma \u001b[39m=\u001b[39m assemble_plasma(\n\u001b[1;32m    659\u001b[0m         config, model, atom_data\u001b[39m=\u001b[39mkwargs\u001b[39m.\u001b[39mget(\u001b[39m\"\u001b[39m\u001b[39matom_data\u001b[39m\u001b[39m\"\u001b[39m, \u001b[39mNone\u001b[39;00m)\n\u001b[1;32m    660\u001b[0m     )\n\u001b[1;32m    661\u001b[0m \u001b[39mif\u001b[39;00m \u001b[39m\"\u001b[39m\u001b[39mrunner\u001b[39m\u001b[39m\"\u001b[39m \u001b[39min\u001b[39;00m kwargs:\n\u001b[1;32m    662\u001b[0m     \u001b[39mif\u001b[39;00m packet_source \u001b[39mis\u001b[39;00m \u001b[39mnot\u001b[39;00m \u001b[39mNone\u001b[39;00m:\n",
      "File \u001b[0;32m~/Downloads/tardis/tardis/plasma/standard_plasmas.py:108\u001b[0m, in \u001b[0;36massemble_plasma\u001b[0;34m(config, model, atom_data)\u001b[0m\n\u001b[1;32m    100\u001b[0m         \u001b[39mprint\u001b[39m(\n\u001b[1;32m    101\u001b[0m             e,\n\u001b[1;32m    102\u001b[0m             \u001b[39m\"\u001b[39m\u001b[39mError might be from the use of an old-format of the atomic database, \u001b[39m\u001b[39m\\n\u001b[39;00m\u001b[39m\"\u001b[39m\n\u001b[1;32m    103\u001b[0m             \u001b[39m\"\u001b[39m\u001b[39mplease see https://github.com/tardis-sn/tardis-refdata/tree/master/atom_data\u001b[39m\u001b[39m\"\u001b[39m\n\u001b[1;32m    104\u001b[0m             \u001b[39m\"\u001b[39m\u001b[39m for the most recent version.\u001b[39m\u001b[39m\"\u001b[39m,\n\u001b[1;32m    105\u001b[0m         )\n\u001b[1;32m    106\u001b[0m         \u001b[39mraise\u001b[39;00m\n\u001b[0;32m--> 108\u001b[0m atom_data\u001b[39m.\u001b[39mprepare_atom_data(\n\u001b[1;32m    109\u001b[0m     model\u001b[39m.\u001b[39mabundance\u001b[39m.\u001b[39mindex,\n\u001b[1;32m    110\u001b[0m     line_interaction_type\u001b[39m=\u001b[39mconfig\u001b[39m.\u001b[39mplasma\u001b[39m.\u001b[39mline_interaction_type,\n\u001b[1;32m    111\u001b[0m     nlte_species\u001b[39m=\u001b[39mnlte_species,\n\u001b[1;32m    112\u001b[0m )\n\u001b[1;32m    114\u001b[0m \u001b[39m# Check if continuum interaction species are in selected_atoms\u001b[39;00m\n\u001b[1;32m    115\u001b[0m continuum_atoms \u001b[39m=\u001b[39m continuum_interaction_species\u001b[39m.\u001b[39mget_level_values(\n\u001b[1;32m    116\u001b[0m     \u001b[39m\"\u001b[39m\u001b[39matomic_number\u001b[39m\u001b[39m\"\u001b[39m\n\u001b[1;32m    117\u001b[0m )\n",
      "File \u001b[0;32m~/Downloads/tardis/tardis/io/atom_data/base.py:384\u001b[0m, in \u001b[0;36mAtomData.prepare_atom_data\u001b[0;34m(self, selected_atomic_numbers, line_interaction_type, nlte_species)\u001b[0m\n\u001b[1;32m    379\u001b[0m \u001b[39mself\u001b[39m\u001b[39m.\u001b[39mlevels_index \u001b[39m=\u001b[39m pd\u001b[39m.\u001b[39mSeries(\n\u001b[1;32m    380\u001b[0m     np\u001b[39m.\u001b[39marange(\u001b[39mlen\u001b[39m(\u001b[39mself\u001b[39m\u001b[39m.\u001b[39mlevels), dtype\u001b[39m=\u001b[39m\u001b[39mint\u001b[39m), index\u001b[39m=\u001b[39m\u001b[39mself\u001b[39m\u001b[39m.\u001b[39mlevels\u001b[39m.\u001b[39mindex\n\u001b[1;32m    381\u001b[0m )\n\u001b[1;32m    383\u001b[0m \u001b[39m# cutting levels_lines\u001b[39;00m\n\u001b[0;32m--> 384\u001b[0m \u001b[39mself\u001b[39m\u001b[39m.\u001b[39mlines \u001b[39m=\u001b[39m \u001b[39mself\u001b[39m\u001b[39m.\u001b[39mlines[\n\u001b[1;32m    385\u001b[0m     \u001b[39mself\u001b[39m\u001b[39m.\u001b[39mlines\u001b[39m.\u001b[39mindex\u001b[39m.\u001b[39misin(\n\u001b[1;32m    386\u001b[0m         \u001b[39mself\u001b[39m\u001b[39m.\u001b[39mselected_atomic_numbers, level\u001b[39m=\u001b[39m\u001b[39m\"\u001b[39m\u001b[39matomic_number\u001b[39m\u001b[39m\"\u001b[39m\n\u001b[1;32m    387\u001b[0m     )\n\u001b[1;32m    388\u001b[0m ]\n\u001b[1;32m    390\u001b[0m \u001b[39mself\u001b[39m\u001b[39m.\u001b[39mlines\u001b[39m.\u001b[39msort_values(by\u001b[39m=\u001b[39m\u001b[39m\"\u001b[39m\u001b[39mwavelength\u001b[39m\u001b[39m\"\u001b[39m, inplace\u001b[39m=\u001b[39m\u001b[39mTrue\u001b[39;00m)\n\u001b[1;32m    392\u001b[0m \u001b[39mself\u001b[39m\u001b[39m.\u001b[39mlines_index \u001b[39m=\u001b[39m pd\u001b[39m.\u001b[39mSeries(\n\u001b[1;32m    393\u001b[0m     np\u001b[39m.\u001b[39marange(\u001b[39mlen\u001b[39m(\u001b[39mself\u001b[39m\u001b[39m.\u001b[39mlines), dtype\u001b[39m=\u001b[39m\u001b[39mint\u001b[39m),\n\u001b[1;32m    394\u001b[0m     index\u001b[39m=\u001b[39m\u001b[39mself\u001b[39m\u001b[39m.\u001b[39mlines\u001b[39m.\u001b[39mset_index(\u001b[39m\"\u001b[39m\u001b[39mline_id\u001b[39m\u001b[39m\"\u001b[39m)\u001b[39m.\u001b[39mindex,\n\u001b[1;32m    395\u001b[0m )\n",
      "File \u001b[0;32m/opt/miniconda3/envs/tardis2/lib/python3.11/site-packages/pandas/core/frame.py:3798\u001b[0m, in \u001b[0;36mDataFrame.__getitem__\u001b[0;34m(self, key)\u001b[0m\n\u001b[1;32m   3796\u001b[0m \u001b[39m# Do we have a (boolean) 1d indexer?\u001b[39;00m\n\u001b[1;32m   3797\u001b[0m \u001b[39mif\u001b[39;00m com\u001b[39m.\u001b[39mis_bool_indexer(key):\n\u001b[0;32m-> 3798\u001b[0m     \u001b[39mreturn\u001b[39;00m \u001b[39mself\u001b[39m\u001b[39m.\u001b[39m_getitem_bool_array(key)\n\u001b[1;32m   3800\u001b[0m \u001b[39m# We are left with two options: a single key, and a collection of keys,\u001b[39;00m\n\u001b[1;32m   3801\u001b[0m \u001b[39m# We interpret tuples as collections only for non-MultiIndex\u001b[39;00m\n\u001b[1;32m   3802\u001b[0m is_single_key \u001b[39m=\u001b[39m \u001b[39misinstance\u001b[39m(key, \u001b[39mtuple\u001b[39m) \u001b[39mor\u001b[39;00m \u001b[39mnot\u001b[39;00m is_list_like(key)\n",
      "File \u001b[0;32m/opt/miniconda3/envs/tardis2/lib/python3.11/site-packages/pandas/core/frame.py:3853\u001b[0m, in \u001b[0;36mDataFrame._getitem_bool_array\u001b[0;34m(self, key)\u001b[0m\n\u001b[1;32m   3851\u001b[0m key \u001b[39m=\u001b[39m check_bool_indexer(\u001b[39mself\u001b[39m\u001b[39m.\u001b[39mindex, key)\n\u001b[1;32m   3852\u001b[0m indexer \u001b[39m=\u001b[39m key\u001b[39m.\u001b[39mnonzero()[\u001b[39m0\u001b[39m]\n\u001b[0;32m-> 3853\u001b[0m \u001b[39mreturn\u001b[39;00m \u001b[39mself\u001b[39m\u001b[39m.\u001b[39m_take_with_is_copy(indexer, axis\u001b[39m=\u001b[39m\u001b[39m0\u001b[39m)\n",
      "File \u001b[0;32m/opt/miniconda3/envs/tardis2/lib/python3.11/site-packages/pandas/core/generic.py:3902\u001b[0m, in \u001b[0;36mNDFrame._take_with_is_copy\u001b[0;34m(self, indices, axis)\u001b[0m\n\u001b[1;32m   3894\u001b[0m \u001b[39mdef\u001b[39;00m \u001b[39m_take_with_is_copy\u001b[39m(\u001b[39mself\u001b[39m: NDFrameT, indices, axis\u001b[39m=\u001b[39m\u001b[39m0\u001b[39m) \u001b[39m-\u001b[39m\u001b[39m>\u001b[39m NDFrameT:\n\u001b[1;32m   3895\u001b[0m \u001b[39m    \u001b[39m\u001b[39m\"\"\"\u001b[39;00m\n\u001b[1;32m   3896\u001b[0m \u001b[39m    Internal version of the `take` method that sets the `_is_copy`\u001b[39;00m\n\u001b[1;32m   3897\u001b[0m \u001b[39m    attribute to keep track of the parent dataframe (using in indexing\u001b[39;00m\n\u001b[0;32m   (...)\u001b[0m\n\u001b[1;32m   3900\u001b[0m \u001b[39m    See the docstring of `take` for full explanation of the parameters.\u001b[39;00m\n\u001b[1;32m   3901\u001b[0m \u001b[39m    \"\"\"\u001b[39;00m\n\u001b[0;32m-> 3902\u001b[0m     result \u001b[39m=\u001b[39m \u001b[39mself\u001b[39m\u001b[39m.\u001b[39m_take(indices\u001b[39m=\u001b[39mindices, axis\u001b[39m=\u001b[39maxis)\n\u001b[1;32m   3903\u001b[0m     \u001b[39m# Maybe set copy if we didn't actually change the index.\u001b[39;00m\n\u001b[1;32m   3904\u001b[0m     \u001b[39mif\u001b[39;00m \u001b[39mnot\u001b[39;00m result\u001b[39m.\u001b[39m_get_axis(axis)\u001b[39m.\u001b[39mequals(\u001b[39mself\u001b[39m\u001b[39m.\u001b[39m_get_axis(axis)):\n",
      "File \u001b[0;32m/opt/miniconda3/envs/tardis2/lib/python3.11/site-packages/pandas/core/generic.py:3884\u001b[0m, in \u001b[0;36mNDFrame._take\u001b[0;34m(self, indices, axis, convert_indices)\u001b[0m\n\u001b[1;32m   3873\u001b[0m \u001b[39mdef\u001b[39;00m \u001b[39m_take\u001b[39m(\n\u001b[1;32m   3874\u001b[0m     \u001b[39mself\u001b[39m: NDFrameT,\n\u001b[1;32m   3875\u001b[0m     indices,\n\u001b[1;32m   3876\u001b[0m     axis\u001b[39m=\u001b[39m\u001b[39m0\u001b[39m,\n\u001b[1;32m   3877\u001b[0m     convert_indices: bool_t \u001b[39m=\u001b[39m \u001b[39mTrue\u001b[39;00m,\n\u001b[1;32m   3878\u001b[0m ) \u001b[39m-\u001b[39m\u001b[39m>\u001b[39m NDFrameT:\n\u001b[1;32m   3879\u001b[0m \u001b[39m    \u001b[39m\u001b[39m\"\"\"\u001b[39;00m\n\u001b[1;32m   3880\u001b[0m \u001b[39m    Internal version of the `take` allowing specification of additional args.\u001b[39;00m\n\u001b[1;32m   3881\u001b[0m \n\u001b[1;32m   3882\u001b[0m \u001b[39m    See the docstring of `take` for full explanation of the parameters.\u001b[39;00m\n\u001b[1;32m   3883\u001b[0m \u001b[39m    \"\"\"\u001b[39;00m\n\u001b[0;32m-> 3884\u001b[0m     \u001b[39mself\u001b[39m\u001b[39m.\u001b[39m_consolidate_inplace()\n\u001b[1;32m   3886\u001b[0m     new_data \u001b[39m=\u001b[39m \u001b[39mself\u001b[39m\u001b[39m.\u001b[39m_mgr\u001b[39m.\u001b[39mtake(\n\u001b[1;32m   3887\u001b[0m         indices,\n\u001b[1;32m   3888\u001b[0m         axis\u001b[39m=\u001b[39m\u001b[39mself\u001b[39m\u001b[39m.\u001b[39m_get_block_manager_axis(axis),\n\u001b[1;32m   3889\u001b[0m         verify\u001b[39m=\u001b[39m\u001b[39mTrue\u001b[39;00m,\n\u001b[1;32m   3890\u001b[0m         convert_indices\u001b[39m=\u001b[39mconvert_indices,\n\u001b[1;32m   3891\u001b[0m     )\n\u001b[1;32m   3892\u001b[0m     \u001b[39mreturn\u001b[39;00m \u001b[39mself\u001b[39m\u001b[39m.\u001b[39m_constructor(new_data)\u001b[39m.\u001b[39m__finalize__(\u001b[39mself\u001b[39m, method\u001b[39m=\u001b[39m\u001b[39m\"\u001b[39m\u001b[39mtake\u001b[39m\u001b[39m\"\u001b[39m)\n",
      "File \u001b[0;32m/opt/miniconda3/envs/tardis2/lib/python3.11/site-packages/pandas/core/generic.py:5980\u001b[0m, in \u001b[0;36mNDFrame._consolidate_inplace\u001b[0;34m(self)\u001b[0m\n\u001b[1;32m   5977\u001b[0m \u001b[39mdef\u001b[39;00m \u001b[39mf\u001b[39m():\n\u001b[1;32m   5978\u001b[0m     \u001b[39mself\u001b[39m\u001b[39m.\u001b[39m_mgr \u001b[39m=\u001b[39m \u001b[39mself\u001b[39m\u001b[39m.\u001b[39m_mgr\u001b[39m.\u001b[39mconsolidate()\n\u001b[0;32m-> 5980\u001b[0m \u001b[39mself\u001b[39m\u001b[39m.\u001b[39m_protect_consolidate(f)\n",
      "File \u001b[0;32m/opt/miniconda3/envs/tardis2/lib/python3.11/site-packages/pandas/core/generic.py:5968\u001b[0m, in \u001b[0;36mNDFrame._protect_consolidate\u001b[0;34m(self, f)\u001b[0m\n\u001b[1;32m   5966\u001b[0m     \u001b[39mreturn\u001b[39;00m f()\n\u001b[1;32m   5967\u001b[0m blocks_before \u001b[39m=\u001b[39m \u001b[39mlen\u001b[39m(\u001b[39mself\u001b[39m\u001b[39m.\u001b[39m_mgr\u001b[39m.\u001b[39mblocks)\n\u001b[0;32m-> 5968\u001b[0m result \u001b[39m=\u001b[39m f()\n\u001b[1;32m   5969\u001b[0m \u001b[39mif\u001b[39;00m \u001b[39mlen\u001b[39m(\u001b[39mself\u001b[39m\u001b[39m.\u001b[39m_mgr\u001b[39m.\u001b[39mblocks) \u001b[39m!=\u001b[39m blocks_before:\n\u001b[1;32m   5970\u001b[0m     \u001b[39mself\u001b[39m\u001b[39m.\u001b[39m_clear_item_cache()\n",
      "File \u001b[0;32m/opt/miniconda3/envs/tardis2/lib/python3.11/site-packages/pandas/core/generic.py:5978\u001b[0m, in \u001b[0;36mNDFrame._consolidate_inplace.<locals>.f\u001b[0;34m()\u001b[0m\n\u001b[1;32m   5977\u001b[0m \u001b[39mdef\u001b[39;00m \u001b[39mf\u001b[39m():\n\u001b[0;32m-> 5978\u001b[0m     \u001b[39mself\u001b[39m\u001b[39m.\u001b[39m_mgr \u001b[39m=\u001b[39m \u001b[39mself\u001b[39m\u001b[39m.\u001b[39m_mgr\u001b[39m.\u001b[39mconsolidate()\n",
      "File \u001b[0;32m/opt/miniconda3/envs/tardis2/lib/python3.11/site-packages/pandas/core/internals/managers.py:686\u001b[0m, in \u001b[0;36mBaseBlockManager.consolidate\u001b[0;34m(self)\u001b[0m\n\u001b[1;32m    684\u001b[0m bm \u001b[39m=\u001b[39m \u001b[39mtype\u001b[39m(\u001b[39mself\u001b[39m)(\u001b[39mself\u001b[39m\u001b[39m.\u001b[39mblocks, \u001b[39mself\u001b[39m\u001b[39m.\u001b[39maxes, \u001b[39mself\u001b[39m\u001b[39m.\u001b[39mrefs, verify_integrity\u001b[39m=\u001b[39m\u001b[39mFalse\u001b[39;00m)\n\u001b[1;32m    685\u001b[0m bm\u001b[39m.\u001b[39m_is_consolidated \u001b[39m=\u001b[39m \u001b[39mFalse\u001b[39;00m\n\u001b[0;32m--> 686\u001b[0m bm\u001b[39m.\u001b[39m_consolidate_inplace()\n\u001b[1;32m    687\u001b[0m \u001b[39mreturn\u001b[39;00m bm\n",
      "File \u001b[0;32m/opt/miniconda3/envs/tardis2/lib/python3.11/site-packages/pandas/core/internals/managers.py:1873\u001b[0m, in \u001b[0;36mBlockManager._consolidate_inplace\u001b[0;34m(self)\u001b[0m\n\u001b[1;32m   1871\u001b[0m     \u001b[39mself\u001b[39m\u001b[39m.\u001b[39mblocks \u001b[39m=\u001b[39m _consolidate(\u001b[39mself\u001b[39m\u001b[39m.\u001b[39mblocks)\n\u001b[1;32m   1872\u001b[0m \u001b[39melse\u001b[39;00m:\n\u001b[0;32m-> 1873\u001b[0m     \u001b[39mself\u001b[39m\u001b[39m.\u001b[39mblocks, \u001b[39mself\u001b[39m\u001b[39m.\u001b[39mrefs \u001b[39m=\u001b[39m _consolidate_with_refs(\u001b[39mself\u001b[39m\u001b[39m.\u001b[39mblocks, \u001b[39mself\u001b[39m\u001b[39m.\u001b[39mrefs)\n\u001b[1;32m   1874\u001b[0m \u001b[39mself\u001b[39m\u001b[39m.\u001b[39m_is_consolidated \u001b[39m=\u001b[39m \u001b[39mTrue\u001b[39;00m\n\u001b[1;32m   1875\u001b[0m \u001b[39mself\u001b[39m\u001b[39m.\u001b[39m_known_consolidated \u001b[39m=\u001b[39m \u001b[39mTrue\u001b[39;00m\n",
      "File \u001b[0;32m/opt/miniconda3/envs/tardis2/lib/python3.11/site-packages/pandas/core/internals/managers.py:2350\u001b[0m, in \u001b[0;36m_consolidate_with_refs\u001b[0;34m(blocks, refs)\u001b[0m\n\u001b[1;32m   2348\u001b[0m \u001b[39mfor\u001b[39;00m (_can_consolidate, dtype), group_blocks_refs \u001b[39min\u001b[39;00m grouper:\n\u001b[1;32m   2349\u001b[0m     group_blocks, group_refs \u001b[39m=\u001b[39m \u001b[39mlist\u001b[39m(\u001b[39mzip\u001b[39m(\u001b[39m*\u001b[39m\u001b[39mlist\u001b[39m(group_blocks_refs)))\n\u001b[0;32m-> 2350\u001b[0m     merged_blocks, consolidated \u001b[39m=\u001b[39m _merge_blocks(\n\u001b[1;32m   2351\u001b[0m         \u001b[39mlist\u001b[39m(group_blocks), dtype\u001b[39m=\u001b[39mdtype, can_consolidate\u001b[39m=\u001b[39m_can_consolidate\n\u001b[1;32m   2352\u001b[0m     )\n\u001b[1;32m   2353\u001b[0m     new_blocks \u001b[39m=\u001b[39m extend_blocks(merged_blocks, new_blocks)\n\u001b[1;32m   2354\u001b[0m     \u001b[39mif\u001b[39;00m consolidated:\n",
      "File \u001b[0;32m/opt/miniconda3/envs/tardis2/lib/python3.11/site-packages/pandas/core/internals/managers.py:2381\u001b[0m, in \u001b[0;36m_merge_blocks\u001b[0;34m(blocks, dtype, can_consolidate)\u001b[0m\n\u001b[1;32m   2374\u001b[0m new_values: ArrayLike\n\u001b[1;32m   2376\u001b[0m \u001b[39mif\u001b[39;00m \u001b[39misinstance\u001b[39m(blocks[\u001b[39m0\u001b[39m]\u001b[39m.\u001b[39mdtype, np\u001b[39m.\u001b[39mdtype):\n\u001b[1;32m   2377\u001b[0m     \u001b[39m# error: List comprehension has incompatible type List[Union[ndarray,\u001b[39;00m\n\u001b[1;32m   2378\u001b[0m     \u001b[39m# ExtensionArray]]; expected List[Union[complex, generic,\u001b[39;00m\n\u001b[1;32m   2379\u001b[0m     \u001b[39m# Sequence[Union[int, float, complex, str, bytes, generic]],\u001b[39;00m\n\u001b[1;32m   2380\u001b[0m     \u001b[39m# Sequence[Sequence[Any]], SupportsArray]]\u001b[39;00m\n\u001b[0;32m-> 2381\u001b[0m     new_values \u001b[39m=\u001b[39m np\u001b[39m.\u001b[39mvstack([b\u001b[39m.\u001b[39mvalues \u001b[39mfor\u001b[39;00m b \u001b[39min\u001b[39;00m blocks])  \u001b[39m# type: ignore[misc]\u001b[39;00m\n\u001b[1;32m   2382\u001b[0m \u001b[39melse\u001b[39;00m:\n\u001b[1;32m   2383\u001b[0m     bvals \u001b[39m=\u001b[39m [blk\u001b[39m.\u001b[39mvalues \u001b[39mfor\u001b[39;00m blk \u001b[39min\u001b[39;00m blocks]\n",
      "File \u001b[0;32m<__array_function__ internals>:200\u001b[0m, in \u001b[0;36mvstack\u001b[0;34m(*args, **kwargs)\u001b[0m\n",
      "File \u001b[0;32m/opt/miniconda3/envs/tardis2/lib/python3.11/site-packages/astropy/units/quantity.py:1683\u001b[0m, in \u001b[0;36mQuantity.__array_function__\u001b[0;34m(self, function, types, args, kwargs)\u001b[0m\n\u001b[1;32m   1670\u001b[0m \u001b[39m# A function should be in one of the following sets or dicts:\u001b[39;00m\n\u001b[1;32m   1671\u001b[0m \u001b[39m# 1. SUBCLASS_SAFE_FUNCTIONS (set), if the numpy implementation\u001b[39;00m\n\u001b[1;32m   1672\u001b[0m \u001b[39m#    supports Quantity; we pass on to ndarray.__array_function__.\u001b[39;00m\n\u001b[0;32m   (...)\u001b[0m\n\u001b[1;32m   1680\u001b[0m \u001b[39m# function is in none of the above, we simply call the numpy\u001b[39;00m\n\u001b[1;32m   1681\u001b[0m \u001b[39m# implementation.\u001b[39;00m\n\u001b[1;32m   1682\u001b[0m \u001b[39mif\u001b[39;00m function \u001b[39min\u001b[39;00m SUBCLASS_SAFE_FUNCTIONS:\n\u001b[0;32m-> 1683\u001b[0m     \u001b[39mreturn\u001b[39;00m \u001b[39msuper\u001b[39m()\u001b[39m.\u001b[39m__array_function__(function, types, args, kwargs)\n\u001b[1;32m   1685\u001b[0m \u001b[39melif\u001b[39;00m function \u001b[39min\u001b[39;00m FUNCTION_HELPERS:\n\u001b[1;32m   1686\u001b[0m     function_helper \u001b[39m=\u001b[39m FUNCTION_HELPERS[function]\n",
      "File \u001b[0;32m/opt/miniconda3/envs/tardis2/lib/python3.11/site-packages/numpy/core/shape_base.py:296\u001b[0m, in \u001b[0;36mvstack\u001b[0;34m(tup, dtype, casting)\u001b[0m\n\u001b[1;32m    294\u001b[0m \u001b[39mif\u001b[39;00m \u001b[39mnot\u001b[39;00m \u001b[39misinstance\u001b[39m(arrs, \u001b[39mlist\u001b[39m):\n\u001b[1;32m    295\u001b[0m     arrs \u001b[39m=\u001b[39m [arrs]\n\u001b[0;32m--> 296\u001b[0m \u001b[39mreturn\u001b[39;00m _nx\u001b[39m.\u001b[39mconcatenate(arrs, \u001b[39m0\u001b[39m, dtype\u001b[39m=\u001b[39mdtype, casting\u001b[39m=\u001b[39mcasting)\n",
      "File \u001b[0;32m<__array_function__ internals>:200\u001b[0m, in \u001b[0;36mconcatenate\u001b[0;34m(*args, **kwargs)\u001b[0m\n",
      "File \u001b[0;32m/opt/miniconda3/envs/tardis2/lib/python3.11/site-packages/astropy/units/quantity.py:1688\u001b[0m, in \u001b[0;36mQuantity.__array_function__\u001b[0;34m(self, function, types, args, kwargs)\u001b[0m\n\u001b[1;32m   1686\u001b[0m function_helper \u001b[39m=\u001b[39m FUNCTION_HELPERS[function]\n\u001b[1;32m   1687\u001b[0m \u001b[39mtry\u001b[39;00m:\n\u001b[0;32m-> 1688\u001b[0m     args, kwargs, unit, out \u001b[39m=\u001b[39m function_helper(\u001b[39m*\u001b[39margs, \u001b[39m*\u001b[39m\u001b[39m*\u001b[39mkwargs)\n\u001b[1;32m   1689\u001b[0m \u001b[39mexcept\u001b[39;00m \u001b[39mNotImplementedError\u001b[39;00m:\n\u001b[1;32m   1690\u001b[0m     \u001b[39mreturn\u001b[39;00m \u001b[39mself\u001b[39m\u001b[39m.\u001b[39m_not_implemented_or_raise(function, types)\n",
      "\u001b[0;31mTypeError\u001b[0m: concatenate() got an unexpected keyword argument 'dtype'"
     ]
    }
   ],
   "source": [
    "model_customised = run_tardis('/Users/anirbandutta/Downloads/tardis/docs/tardis_example.yml',\n",
    "                              packet_source=packet_source, show_convergence_plots=False, \n",
    "                              atom_data=atom_data)\n",
    "# model_norm = run_tardis(\"/Users/anirbandutta/Downloads/tardis/docs/tardis_example.yml\", show_convergence_plots=False)"
   ]
  },
  {
   "cell_type": "code",
   "execution_count": 31,
   "metadata": {},
   "outputs": [
    {
     "name": "stdout",
     "output_type": "stream",
     "text": [
      "[\u001b[1mtardis.io.atom_data.base\u001b[0m][\u001b[1;37mINFO\u001b[0m   ]  \n",
      "\tReading Atom Data with: UUID = 6f7b09e887a311e7a06b246e96350010 MD5  = 864f1753714343c41f99cb065710cace  (\u001b[1mbase.py\u001b[0m:249)\n",
      "[\u001b[1mtardis.io.atom_data.base\u001b[0m][\u001b[1;37mINFO\u001b[0m   ]  \n",
      "\tNon provided Atomic Data: synpp_refs, photoionization_data, yg_data, two_photon_data (\u001b[1mbase.py\u001b[0m:253)\n"
     ]
    }
   ],
   "source": [
    "atom_data = AtomData.from_hdf(config.atom_data)"
   ]
  },
  {
   "cell_type": "code",
   "execution_count": 32,
   "metadata": {},
   "outputs": [
    {
     "data": {
      "text/plain": [
       "<Atomic Data UUID=6f7b09e887a311e7a06b246e96350010 MD5=864f1753714343c41f99cb065710cace Lines=271741 Levels=24806>"
      ]
     },
     "execution_count": 32,
     "metadata": {},
     "output_type": "execute_result"
    }
   ],
   "source": [
    "atom_data"
   ]
  },
  {
   "cell_type": "code",
   "execution_count": 35,
   "metadata": {},
   "outputs": [
    {
     "data": {
      "text/plain": [
       "<__main__.truncblackbodysource at 0x149be1290>"
      ]
     },
     "execution_count": 35,
     "metadata": {},
     "output_type": "execute_result"
    }
   ],
   "source": [
    "packet_source"
   ]
  },
  {
   "cell_type": "code",
   "execution_count": 43,
   "metadata": {},
   "outputs": [
    {
     "data": {
      "text/plain": [
       "'23.5.24.0.dev4374+ga9bde5c'"
      ]
     },
     "execution_count": 43,
     "metadata": {},
     "output_type": "execute_result"
    }
   ],
   "source": [
    "import tardis\n",
    "tardis.__version__"
   ]
  },
  {
   "cell_type": "code",
   "execution_count": null,
   "metadata": {},
   "outputs": [],
   "source": []
  }
 ],
 "metadata": {
  "kernelspec": {
   "display_name": "tardis2",
   "language": "python",
   "name": "python3"
  },
  "language_info": {
   "codemirror_mode": {
    "name": "ipython",
    "version": 3
   },
   "file_extension": ".py",
   "mimetype": "text/x-python",
   "name": "python",
   "nbconvert_exporter": "python",
   "pygments_lexer": "ipython3",
   "version": "3.8.17"
  },
  "orig_nbformat": 4
 },
 "nbformat": 4,
 "nbformat_minor": 2
}
