{
  "cells": [
    {
      "cell_type": "markdown",
      "id": "ce6951c0",
      "metadata": {},
      "source": [
        "# Gamma-Ray Tutorial\n",
        "\n",
        "This notebook demonstrates how to use TARDIS to simulate gamma-ray transport. We will walk through:\n",
        "\n",
        "1. Setting up a TARDIS configuration for gamma-ray transport.\n",
        "2. Creating a simulation state.\n",
        "3. Inspecting gamma-ray decay properties.\n",
        "\n",
        "For demonstration, we will use the same approach as in TARDIS's gamma-ray tests."
      ]
    },
    {
      "cell_type": "markdown",
      "id": "8cb01267",
      "metadata": {},
      "source": [
        "## 1. Imports\n",
        "\n",
        "We'll need TARDIS, `astropy`, `numpy`, and `radioactivedecay` (for handling nuclear decay)."
      ]
    },
    {
      "cell_type": "code",
      "execution_count": 2,
      "id": "7445c1da",
      "metadata": {
        "tags": []
      },
      "outputs": [
        {
          "name": "stderr",
          "output_type": "stream",
          "text": [
            "/Users/wkerzend/python/tardis/tardis/__init__.py:20: UserWarning: Astropy is already imported externally. Astropy should be imported after TARDIS.\n",
            "  warnings.warn(\n"
          ]
        },
        {
          "data": {
            "application/vnd.jupyter.widget-view+json": {
              "model_id": "4c52c3ab904b47efa8d4414a5f1d6c8a",
              "version_major": 2,
              "version_minor": 0
            },
            "text/plain": [
              "Iterations:          0/? [00:00<?, ?it/s]"
            ]
          },
          "metadata": {},
          "output_type": "display_data"
        },
        {
          "data": {
            "application/vnd.jupyter.widget-view+json": {
              "model_id": "bd139260f5834170b4da271f20e45ac8",
              "version_major": 2,
              "version_minor": 0
            },
            "text/plain": [
              "Packets:             0/? [00:00<?, ?it/s]"
            ]
          },
          "metadata": {},
          "output_type": "display_data"
        }
      ],
      "source": [
        "from pathlib import Path\n",
        "\n",
        "import astropy.units as u\n",
        "\n",
        "from tardis.energy_input.energy_source import get_nuclear_lines_database\n",
        "from tardis.energy_input.gamma_ray_channel import (\n",
        "    calculate_total_decays,\n",
        "    create_inventories_dict,\n",
        "    create_isotope_decay_df,\n",
        "    create_isotope_dicts,\n",
        ")\n",
        "from tardis.io.configuration import config_reader\n",
        "from tardis.model import SimulationState\n"
      ]
    },
    {
      "cell_type": "markdown",
      "id": "86e45339",
      "metadata": {},
      "source": [
        "## 2. Load Configuration and Construct Simulation State\n",
        "\n",
        "We'll assume your TARDIS environment has an example configuration file. If you've cloned the TARDIS repo and have local data, you can adjust the path below accordingly."
      ]
    },
    {
      "cell_type": "code",
      "execution_count": 3,
      "id": "98ce79f6",
      "metadata": {},
      "outputs": [
        {
          "name": "stderr",
          "output_type": "stream",
          "text": [
            "CRITICAL:tardis.io.configuration.config_reader:No config file named: examples/tardis_configv1_density_exponential_nebular_multi_isotope.yml\n"
          ]
        },
        {
          "ename": "FileNotFoundError",
          "evalue": "[Errno 2] No such file or directory: 'examples/tardis_configv1_density_exponential_nebular_multi_isotope.yml'",
          "output_type": "error",
          "traceback": [
            "\u001b[0;31m---------------------------------------------------------------------------\u001b[0m",
            "\u001b[0;31mFileNotFoundError\u001b[0m                         Traceback (most recent call last)",
            "Cell \u001b[0;32mIn[3], line 5\u001b[0m\n\u001b[1;32m      2\u001b[0m example_configuration_dir \u001b[38;5;241m=\u001b[39m Path(\u001b[38;5;124m\"\u001b[39m\u001b[38;5;124m./examples\u001b[39m\u001b[38;5;124m\"\u001b[39m)  \u001b[38;5;66;03m# Example placeholder\u001b[39;00m\n\u001b[1;32m      3\u001b[0m config_path \u001b[38;5;241m=\u001b[39m example_configuration_dir \u001b[38;5;241m/\u001b[39m \u001b[38;5;124m\"\u001b[39m\u001b[38;5;124mtardis_configv1_density_exponential_nebular_multi_isotope.yml\u001b[39m\u001b[38;5;124m\"\u001b[39m\n\u001b[0;32m----> 5\u001b[0m config \u001b[38;5;241m=\u001b[39m \u001b[43mconfig_reader\u001b[49m\u001b[38;5;241;43m.\u001b[39;49m\u001b[43mConfiguration\u001b[49m\u001b[38;5;241;43m.\u001b[39;49m\u001b[43mfrom_yaml\u001b[49m\u001b[43m(\u001b[49m\u001b[43mconfig_path\u001b[49m\u001b[43m)\u001b[49m\n\u001b[1;32m      7\u001b[0m \u001b[38;5;66;03m# For demonstration, override some parameters:\u001b[39;00m\n\u001b[1;32m      8\u001b[0m config\u001b[38;5;241m.\u001b[39mmodel\u001b[38;5;241m.\u001b[39mstructure\u001b[38;5;241m.\u001b[39mvelocity\u001b[38;5;241m.\u001b[39mstart \u001b[38;5;241m=\u001b[39m \u001b[38;5;241m1.0\u001b[39m \u001b[38;5;241m*\u001b[39m u\u001b[38;5;241m.\u001b[39mkm \u001b[38;5;241m/\u001b[39m u\u001b[38;5;241m.\u001b[39ms\n",
            "File \u001b[0;32m~/python/tardis/tardis/io/configuration/config_reader.py:219\u001b[0m, in \u001b[0;36mConfiguration.from_yaml\u001b[0;34m(cls, fname, *args, **kwargs)\u001b[0m\n\u001b[1;32m    217\u001b[0m \u001b[38;5;28;01mexcept\u001b[39;00m \u001b[38;5;167;01mOSError\u001b[39;00m \u001b[38;5;28;01mas\u001b[39;00m e:\n\u001b[1;32m    218\u001b[0m     logger\u001b[38;5;241m.\u001b[39mcritical(\u001b[38;5;124mf\u001b[39m\u001b[38;5;124m\"\u001b[39m\u001b[38;5;124mNo config file named: \u001b[39m\u001b[38;5;132;01m{\u001b[39;00mfname\u001b[38;5;132;01m}\u001b[39;00m\u001b[38;5;124m\"\u001b[39m)\n\u001b[0;32m--> 219\u001b[0m     \u001b[38;5;28;01mraise\u001b[39;00m e\n\u001b[1;32m    221\u001b[0m tardis_config_version \u001b[38;5;241m=\u001b[39m yaml_dict\u001b[38;5;241m.\u001b[39mget(\u001b[38;5;124m\"\u001b[39m\u001b[38;5;124mtardis_config_version\u001b[39m\u001b[38;5;124m\"\u001b[39m, \u001b[38;5;28;01mNone\u001b[39;00m)\n\u001b[1;32m    222\u001b[0m \u001b[38;5;28;01mif\u001b[39;00m tardis_config_version \u001b[38;5;241m!=\u001b[39m \u001b[38;5;124m\"\u001b[39m\u001b[38;5;124mv1.0\u001b[39m\u001b[38;5;124m\"\u001b[39m:\n",
            "File \u001b[0;32m~/python/tardis/tardis/io/configuration/config_reader.py:214\u001b[0m, in \u001b[0;36mConfiguration.from_yaml\u001b[0;34m(cls, fname, *args, **kwargs)\u001b[0m\n\u001b[1;32m    211\u001b[0m \u001b[38;5;129m@classmethod\u001b[39m\n\u001b[1;32m    212\u001b[0m \u001b[38;5;28;01mdef\u001b[39;00m \u001b[38;5;21mfrom_yaml\u001b[39m(\u001b[38;5;28mcls\u001b[39m, fname, \u001b[38;5;241m*\u001b[39margs, \u001b[38;5;241m*\u001b[39m\u001b[38;5;241m*\u001b[39mkwargs):\n\u001b[1;32m    213\u001b[0m     \u001b[38;5;28;01mtry\u001b[39;00m:\n\u001b[0;32m--> 214\u001b[0m         yaml_dict \u001b[38;5;241m=\u001b[39m \u001b[43myaml_load_file\u001b[49m\u001b[43m(\u001b[49m\n\u001b[1;32m    215\u001b[0m \u001b[43m            \u001b[49m\u001b[43mfname\u001b[49m\u001b[43m,\u001b[49m\u001b[43m \u001b[49m\u001b[43mloader\u001b[49m\u001b[38;5;241;43m=\u001b[39;49m\u001b[43mkwargs\u001b[49m\u001b[38;5;241;43m.\u001b[39;49m\u001b[43mpop\u001b[49m\u001b[43m(\u001b[49m\u001b[38;5;124;43m\"\u001b[39;49m\u001b[38;5;124;43mloader\u001b[39;49m\u001b[38;5;124;43m\"\u001b[39;49m\u001b[43m,\u001b[49m\u001b[43m \u001b[49m\u001b[43mYAMLLoader\u001b[49m\u001b[43m)\u001b[49m\n\u001b[1;32m    216\u001b[0m \u001b[43m        \u001b[49m\u001b[43m)\u001b[49m\n\u001b[1;32m    217\u001b[0m     \u001b[38;5;28;01mexcept\u001b[39;00m \u001b[38;5;167;01mOSError\u001b[39;00m \u001b[38;5;28;01mas\u001b[39;00m e:\n\u001b[1;32m    218\u001b[0m         logger\u001b[38;5;241m.\u001b[39mcritical(\u001b[38;5;124mf\u001b[39m\u001b[38;5;124m\"\u001b[39m\u001b[38;5;124mNo config file named: \u001b[39m\u001b[38;5;132;01m{\u001b[39;00mfname\u001b[38;5;132;01m}\u001b[39;00m\u001b[38;5;124m\"\u001b[39m)\n",
            "File \u001b[0;32m~/python/tardis/tardis/io/util.py:137\u001b[0m, in \u001b[0;36myaml_load_file\u001b[0;34m(filename, loader)\u001b[0m\n\u001b[1;32m    136\u001b[0m \u001b[38;5;28;01mdef\u001b[39;00m \u001b[38;5;21myaml_load_file\u001b[39m(filename, loader\u001b[38;5;241m=\u001b[39myaml\u001b[38;5;241m.\u001b[39mLoader):\n\u001b[0;32m--> 137\u001b[0m     \u001b[38;5;28;01mwith\u001b[39;00m \u001b[38;5;28;43mopen\u001b[39;49m\u001b[43m(\u001b[49m\u001b[43mfilename\u001b[49m\u001b[43m)\u001b[49m \u001b[38;5;28;01mas\u001b[39;00m stream:\n\u001b[1;32m    138\u001b[0m         \u001b[38;5;28;01mreturn\u001b[39;00m yaml\u001b[38;5;241m.\u001b[39mload(stream, Loader\u001b[38;5;241m=\u001b[39mloader)\n",
            "\u001b[0;31mFileNotFoundError\u001b[0m: [Errno 2] No such file or directory: 'examples/tardis_configv1_density_exponential_nebular_multi_isotope.yml'"
          ]
        }
      ],
      "source": [
        "# Modify this path as needed\n",
        "example_configuration_dir = Path(\"./examples\")  # Example placeholder\n",
        "config_path = example_configuration_dir / \"tardis_configv1_density_exponential_nebular_multi_isotope.yml\"\n",
        "\n",
        "config = config_reader.Configuration.from_yaml(config_path)\n",
        "\n",
        "# For demonstration, override some parameters:\n",
        "config.model.structure.velocity.start = 1.0 * u.km / u.s\n",
        "config.model.structure.density.rho_0 = 5.0e2 * u.g / u.cm**3\n",
        "config.supernova.time_explosion = 150 * u.d\n",
        "\n",
        "# Create a simulation state (assuming you have an atomic dataset):\n",
        "atomic_dataset = get_nuclear_lines_database()  # Placeholder\n",
        "simulation_state = SimulationState.from_config(\n",
        "    config,\n",
        "    atom_data=atomic_dataset,\n",
        ")"
      ]
    },
    {
      "cell_type": "markdown",
      "id": "6e5a5474",
      "metadata": {},
      "source": [
        "## 3. Prepare Isotopes and Inventories\n",
        "\n",
        "We can use utility functions from `gamma_ray_channel` to:\n",
        "1. **Create an isotope dictionary** using mass fractions.\n",
        "2. **Create an inventories dictionary** that can be used for decay calculations."
      ]
    },
    {
      "cell_type": "code",
      "execution_count": null,
      "id": "5739bbc5",
      "metadata": {},
      "outputs": [],
      "source": [
        "# Get raw isotopic mass fractions & calculate cell masses\n",
        "raw_isotopic_mass_fraction = simulation_state.composition.raw_isotope_abundance\n",
        "cell_masses = simulation_state.composition.calculate_cell_masses(\n",
        "    simulation_state.geometry.volume\n",
        ")\n",
        "\n",
        "# Create dictionary of isotopes per shell\n",
        "isotope_dict = create_isotope_dicts(raw_isotopic_mass_fraction, cell_masses)\n",
        "\n",
        "# Create inventory that can be used for decay calculations\n",
        "inventories_dict = create_inventories_dict(isotope_dict)\n",
        "\n",
        "inventories_dict"
      ]
    },
    {
      "cell_type": "markdown",
      "id": "238e6266",
      "metadata": {},
      "source": [
        "## 4. Gamma-Ray Decay Calculations\n",
        "\n",
        "We can calculate the total decays over a given time interval (e.g., 1 day), and then construct a DataFrame describing each isotope's decay and its resulting energy channels."
      ]
    },
    {
      "cell_type": "code",
      "execution_count": null,
      "id": "c17b2e8b",
      "metadata": {},
      "outputs": [],
      "source": [
        "time_delta = 1.0 * u.d\n",
        "total_decays = calculate_total_decays(inventories_dict, time_delta)\n",
        "gamma_ray_lines = atomic_dataset.decay_radiation_data\n",
        "isotope_decay_df = create_isotope_decay_df(total_decays, gamma_ray_lines)\n",
        "\n",
        "isotope_decay_df.head()"
      ]
    },
    {
      "cell_type": "markdown",
      "id": "28a66760",
      "metadata": {},
      "source": [
        "## 5. Checking Energy Conservation\n",
        "\n",
        "Below is a quick demonstration of comparing predicted total decay energy with the actual mass difference (~Q-value). We won't replicate the entire test, but the logic is similar."
      ]
    },
    {
      "cell_type": "code",
      "execution_count": null,
      "id": "ccd24943",
      "metadata": {},
      "outputs": [],
      "source": [
        "# Example: Ni-56 --> Co-56\n",
        "nuclide_name = \"Ni-56\"\n",
        "\n",
        "grouped_isotope_df = isotope_decay_df.groupby(level=[\"shell_number\", \"isotope\"])\n",
        "parent_isotope_energy = (\n",
        "    grouped_isotope_df.get_group((0, nuclide_name.replace(\"-\", \"\")))[\"energy_per_channel_keV\"].sum()\n",
        "    * u.keV\n",
        ")\n",
        "\n",
        "# Convert keV to MeV\n",
        "parent_isotope_energy = parent_isotope_energy.to(u.MeV)\n",
        "\n",
        "# Example neutrino energy from Ni-56 decay:\n",
        "neutrino_energy = 0.41 * u.MeV\n",
        "total_energy_actual = parent_isotope_energy + neutrino_energy\n",
        "\n",
        "print(f\"Total energy from lines + neutrino ~ {total_energy_actual:.2f}\")"
      ]
    },
    {
      "cell_type": "markdown",
      "id": "260f7510",
      "metadata": {},
      "source": [
        "## Conclusion\n",
        "\n",
        "You've now seen how to:\n",
        "1. Load a TARDIS config.\n",
        "2. Create a `SimulationState`.\n",
        "3. Prepare isotope/inventory objects.\n",
        "4. Calculate gamma-ray decays.\n",
        "\n",
        "This is just a starting point and mirrors much of the testing logic. Explore adjusting the config, changing times, or analyzing different nuclides to see the diverse gamma-ray outputs TARDIS can generate!"
      ]
    }
  ],
  "metadata": {
    "kernelspec": {
      "display_name": "tardis-devel",
      "language": "python",
      "name": "python3"
    },
    "language_info": {
      "codemirror_mode": {
        "name": "ipython",
        "version": 3
      },
      "file_extension": ".py",
      "mimetype": "text/x-python",
      "name": "python",
      "nbconvert_exporter": "python",
      "pygments_lexer": "ipython3",
      "version": "3.12.4"
    }
  },
  "nbformat": 4,
  "nbformat_minor": 5
}
