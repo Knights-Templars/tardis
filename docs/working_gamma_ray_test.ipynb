{
 "cells": [
  {
   "cell_type": "code",
   "execution_count": 1,
   "metadata": {},
   "outputs": [],
   "source": [
    "# General imports\n",
    "import numpy as np\n",
    "import pandas as pd\n",
    "import matplotlib.pyplot as plt\n",
    "import astropy.constants as const\n",
    "import astropy.units as u\n",
    "\n",
    "%config InlineBackend.figure_format ='retina'\n"
   ]
  },
  {
   "cell_type": "code",
   "execution_count": 2,
   "metadata": {},
   "outputs": [
    {
     "name": "stderr",
     "output_type": "stream",
     "text": [
      "/Users/anirbandutta/Software/tardis/tardis/__init__.py:20: UserWarning: Astropy is already imported externally. Astropy should be imported after TARDIS.\n",
      "  warnings.warn(\n"
     ]
    },
    {
     "data": {
      "application/vnd.jupyter.widget-view+json": {
       "model_id": "eb39b2053b954af0bc6cf5fb4a82b532",
       "version_major": 2,
       "version_minor": 0
      },
      "text/plain": [
       "Iterations:          0/? [00:00<?, ?it/s]"
      ]
     },
     "metadata": {},
     "output_type": "display_data"
    },
    {
     "data": {
      "application/vnd.jupyter.widget-view+json": {
       "model_id": "a2a3d0fe91a841ec98673acb01f87988",
       "version_major": 2,
       "version_minor": 0
      },
      "text/plain": [
       "Packets:             0/? [00:00<?, ?it/s]"
      ]
     },
     "metadata": {},
     "output_type": "display_data"
    }
   ],
   "source": [
    "# TARDIS imports for the gamma-ray code\n",
    "from tardis.io.atom_data import AtomData\n",
    "from tardis.model import SimulationState\n",
    "from tardis.plasma.base import BasePlasma\n",
    "from tardis.io.configuration import config_reader\n",
    "from tardis.energy_input.main_gamma_ray_loop import run_gamma_ray_loop\n",
    "from tardis.plasma.properties import Density, Abundance, IsotopeAbundance, \\\n",
    "    IsotopeNumberDensity, AtomicData, AtomicMass, IsotopeMass, NumberDensity, \\\n",
    "    SelectedAtoms"
   ]
  },
  {
   "cell_type": "code",
   "execution_count": 3,
   "metadata": {},
   "outputs": [
    {
     "name": "stderr",
     "output_type": "stream",
     "text": [
      "INFO:tardis.io.atom_data.base:Reading Atom Data with: UUID = 6f7b09e887a311e7a06b246e96350010 MD5  = 864f1753714343c41f99cb065710cace \n",
      "INFO:tardis.io.atom_data.base:Non provided Atomic Data: synpp_refs, photoionization_data, yg_data, two_photon_data, linelist\n",
      "INFO:tardis.io.atom_data.base:Non provided Atomic Data: synpp_refs, photoionization_data, yg_data, two_photon_data, linelist\n"
     ]
    }
   ],
   "source": [
    "# Download the atom data file from tardis-refdata repo to run this cell.\n",
    "atom_data_file = 'kurucz_cd23_chianti_H_He.h5'\n",
    "atom_data = AtomData.from_hdf(atom_data_file)"
   ]
  },
  {
   "cell_type": "code",
   "execution_count": 4,
   "metadata": {},
   "outputs": [],
   "source": [
    "# Read the config file and create a configuration object\n",
    "config = config_reader.Configuration.from_yaml(\"../tardis/io/configuration/tests/data/tardis_configv1_density_exponential_nebular_Ni_only.yml\")"
   ]
  },
  {
   "cell_type": "code",
   "execution_count": 5,
   "metadata": {},
   "outputs": [
    {
     "name": "stderr",
     "output_type": "stream",
     "text": [
      "WARNING:tardis.model.parse_input:Number of density points larger than number of shells. Assuming inner point irrelevant\n",
      "WARNING:tardis.model.parse_input:Abundances have not been normalized to 1. - normalizing\n",
      "INFO:tardis.model.matter.decay:Decaying abundances for 12960000.0 seconds\n",
      "/Users/anirbandutta/Software/tardis/tardis/model/matter/composition.py:101: FutureWarning: Setting an item of incompatible dtype is deprecated and will raise in a future error of pandas. Value '9.288214564694115e-23' has dtype incompatible with int64, please explicitly cast to a compatible dtype first.\n",
      "  isotope_mass_df[isotope_tuple] = isotope_mass\n"
     ]
    }
   ],
   "source": [
    "# Create the model\n",
    "model = SimulationState.from_config(config, atom_data)\n"
   ]
  },
  {
   "cell_type": "code",
   "execution_count": 6,
   "metadata": {},
   "outputs": [
    {
     "data": {
      "text/html": [
       "<div>\n",
       "<style scoped>\n",
       "    .dataframe tbody tr th:only-of-type {\n",
       "        vertical-align: middle;\n",
       "    }\n",
       "\n",
       "    .dataframe tbody tr th {\n",
       "        vertical-align: top;\n",
       "    }\n",
       "\n",
       "    .dataframe thead th {\n",
       "        text-align: right;\n",
       "    }\n",
       "</style>\n",
       "<table border=\"1\" class=\"dataframe\">\n",
       "  <thead>\n",
       "    <tr style=\"text-align: right;\">\n",
       "      <th></th>\n",
       "      <th></th>\n",
       "      <th>0</th>\n",
       "      <th>1</th>\n",
       "      <th>2</th>\n",
       "      <th>3</th>\n",
       "      <th>4</th>\n",
       "      <th>5</th>\n",
       "      <th>6</th>\n",
       "      <th>7</th>\n",
       "      <th>8</th>\n",
       "      <th>9</th>\n",
       "      <th>10</th>\n",
       "      <th>11</th>\n",
       "      <th>12</th>\n",
       "      <th>13</th>\n",
       "      <th>14</th>\n",
       "      <th>15</th>\n",
       "      <th>16</th>\n",
       "      <th>17</th>\n",
       "      <th>18</th>\n",
       "      <th>19</th>\n",
       "    </tr>\n",
       "    <tr>\n",
       "      <th>atomic_number</th>\n",
       "      <th>mass_number</th>\n",
       "      <th></th>\n",
       "      <th></th>\n",
       "      <th></th>\n",
       "      <th></th>\n",
       "      <th></th>\n",
       "      <th></th>\n",
       "      <th></th>\n",
       "      <th></th>\n",
       "      <th></th>\n",
       "      <th></th>\n",
       "      <th></th>\n",
       "      <th></th>\n",
       "      <th></th>\n",
       "      <th></th>\n",
       "      <th></th>\n",
       "      <th></th>\n",
       "      <th></th>\n",
       "      <th></th>\n",
       "      <th></th>\n",
       "      <th></th>\n",
       "    </tr>\n",
       "  </thead>\n",
       "  <tbody>\n",
       "    <tr>\n",
       "      <th>28</th>\n",
       "      <th>56</th>\n",
       "      <td>0.479167</td>\n",
       "      <td>0.479167</td>\n",
       "      <td>0.479167</td>\n",
       "      <td>0.479167</td>\n",
       "      <td>0.479167</td>\n",
       "      <td>0.479167</td>\n",
       "      <td>0.479167</td>\n",
       "      <td>0.479167</td>\n",
       "      <td>0.479167</td>\n",
       "      <td>0.479167</td>\n",
       "      <td>0.479167</td>\n",
       "      <td>0.479167</td>\n",
       "      <td>0.479167</td>\n",
       "      <td>0.479167</td>\n",
       "      <td>0.479167</td>\n",
       "      <td>0.479167</td>\n",
       "      <td>0.479167</td>\n",
       "      <td>0.479167</td>\n",
       "      <td>0.479167</td>\n",
       "      <td>0.479167</td>\n",
       "    </tr>\n",
       "  </tbody>\n",
       "</table>\n",
       "</div>"
      ],
      "text/plain": [
       "                                 0         1         2         3         4   \\\n",
       "atomic_number mass_number                                                     \n",
       "28            56           0.479167  0.479167  0.479167  0.479167  0.479167   \n",
       "\n",
       "                                 5         6         7         8         9   \\\n",
       "atomic_number mass_number                                                     \n",
       "28            56           0.479167  0.479167  0.479167  0.479167  0.479167   \n",
       "\n",
       "                                 10        11        12        13        14  \\\n",
       "atomic_number mass_number                                                     \n",
       "28            56           0.479167  0.479167  0.479167  0.479167  0.479167   \n",
       "\n",
       "                                 15        16        17        18        19  \n",
       "atomic_number mass_number                                                    \n",
       "28            56           0.479167  0.479167  0.479167  0.479167  0.479167  "
      ]
     },
     "execution_count": 6,
     "metadata": {},
     "output_type": "execute_result"
    }
   ],
   "source": [
    "# This shows the isotope abundances in the model before decay\n",
    "model.composition.raw_isotope_abundance"
   ]
  },
  {
   "cell_type": "code",
   "execution_count": 7,
   "metadata": {},
   "outputs": [],
   "source": [
    "# Construct the Plasma\n",
    "\n",
    "input = [Density, Abundance, IsotopeAbundance, AtomicData, AtomicMass, IsotopeNumberDensity, NumberDensity, SelectedAtoms, IsotopeMass]\n",
    "\n",
    "plasma = BasePlasma(plasma_properties=input, density = model.density, \n",
    "                    abundance=model.abundance, isotope_abundance=model.composition.raw_isotope_abundance,\n",
    "                    atomic_data = atom_data)"
   ]
  },
  {
   "cell_type": "code",
   "execution_count": 8,
   "metadata": {},
   "outputs": [],
   "source": [
    "# Define the number of MC packets\n",
    "num_packets =  100000\n",
    "\n",
    "np.random.seed(1)"
   ]
  },
  {
   "cell_type": "code",
   "execution_count": 9,
   "metadata": {},
   "outputs": [
    {
     "name": "stderr",
     "output_type": "stream",
     "text": [
      "INFO:tardis.energy_input.main_gamma_ray_loop:Total gamma-ray energy is 6.51100757656281e+45\n",
      "INFO:tardis.energy_input.main_gamma_ray_loop:Total number of packets is 99979\n",
      "INFO:tardis.energy_input.main_gamma_ray_loop:Energy per packet is 6.512375175349633e+40\n",
      "INFO:tardis.energy_input.main_gamma_ray_loop:Initializing packets\n",
      "/Users/anirbandutta/Software/tardis/tardis/energy_input/util.py:72: NumbaPerformanceWarning: \u001b[1m\u001b[1mnp.dot() is faster on contiguous arrays, called on (Array(float64, 1, 'A', False, aligned=True), Array(float64, 1, 'C', False, aligned=True))\u001b[0m\u001b[0m\n",
      "  return 1 - (np.dot(direction_vector, velocity_vector) / C_CGS)\n",
      "INFO:tardis.energy_input.main_gamma_ray_loop:Creating packet list\n",
      "INFO:tardis.energy_input.main_gamma_ray_loop:Total cmf energy is 6.510495219899807e+45\n",
      "INFO:tardis.energy_input.main_gamma_ray_loop:Total rf energy is 6.514973152206181e+45\n",
      "/Users/anirbandutta/Software/tardis/tardis/energy_input/gamma_packet_loop.py:201: NumbaPerformanceWarning: \u001b[1m\u001b[1m\u001b[1m\u001b[1mnp.dot() is faster on contiguous arrays, called on (Array(float64, 1, 'C', False, aligned=True), Array(float64, 1, 'A', False, aligned=True))\u001b[0m\u001b[0m\u001b[0m\u001b[0m\n",
      "  ) = distance_trace(\n",
      "/Users/anirbandutta/mambaforge/envs/tardis/lib/python3.11/site-packages/numba/core/ir_utils.py:2149: NumbaPendingDeprecationWarning: \u001b[1m\n",
      "Encountered the use of a type that is scheduled for deprecation: type 'reflected list' found for argument 'packets' of function 'gamma_packet_loop'.\n",
      "\n",
      "For more information visit https://numba.readthedocs.io/en/stable/reference/deprecation.html#deprecation-of-reflection-for-list-and-set-types\n",
      "\u001b[1m\n",
      "File \"../tardis/energy_input/gamma_packet_loop.py\", line 35:\u001b[0m\n",
      "\u001b[1m@njit(**njit_dict_no_parallel)\n",
      "\u001b[1mdef gamma_packet_loop(\n",
      "\u001b[0m\u001b[1m^\u001b[0m\u001b[0m\n",
      "\u001b[0m\n",
      "  warnings.warn(NumbaPendingDeprecationWarning(msg, loc=loc))\n"
     ]
    },
    {
     "name": "stdout",
     "output_type": "stream",
     "text": [
      "Entering gamma ray loop for 99979 packets\n",
      "Escaped packets: 26552\n",
      "Scattered packets: 7686\n"
     ]
    }
   ],
   "source": [
    "# Execute this cell to run the simulation\n",
    "energy_df, energy_plot_df, escape_energy, decayed_packet_count, energy_plot_positrons, \\\n",
    "       energy_estimated_deposition =  run_gamma_ray_loop(model, plasma, num_decays=num_packets, \n",
    "                                         time_start=0.0011574074, time_end=20.0, time_space=\"log\", \n",
    "                                         time_steps=50, seed=1, positronium_fraction=0.0,\n",
    "                                         spectrum_bins=1000, grey_opacity=-1, \n",
    "                                         path_to_decay_data=atom_data_file)"
   ]
  },
  {
   "cell_type": "code",
   "execution_count": null,
   "metadata": {},
   "outputs": [],
   "source": [
    "# See Noebauer and Sim (2019) for more details\n",
    "\n",
    "H_CGS_KEV = const.h.to(\"keV s\").value\n",
    "freq_start = packets_df_escaped['nu_rf'].min()\n",
    "freq_stop = packets_df_escaped['nu_rf'].max()\n",
    "N = 500\n",
    "spectrum_frequency = np.linspace(freq_start, freq_stop, N+1)\n",
    "\n",
    "emitted_luminosity_hist = np.histogram(packets_df_escaped['nu_rf'],\n",
    "                                    weights=packets_df_escaped['lum_rf'],\n",
    "                                        bins=spectrum_frequency)[0]\n",
    "\n",
    "spectrum_frequency = spectrum_frequency[:-1]\n",
    "delta_frequency = spectrum_frequency[1] - spectrum_frequency[0]   \n",
    "\n",
    "luminosity_density = emitted_luminosity_hist / delta_frequency\n",
    "flux = luminosity_density / (4. * np.pi * (10.0 * u.pc).to(\"cm\").value ** 2.0)\n",
    "photon_energy = spectrum_frequency * H_CGS_KEV * 0.001\n"
   ]
  },
  {
   "cell_type": "code",
   "execution_count": null,
   "metadata": {},
   "outputs": [],
   "source": [
    "plt.plot(photon_energy, flux, label='TARDIS spectrum')\n",
    "#plt.plot(hesma_model_vm.index, hesma_model_vm['30.10'], label='Hesma 30.10', alpha=0.7)\n",
    "\n",
    "plt.loglog()\n",
    "plt.xlabel(\"Energy (MeV)\")\n",
    "plt.ylabel(r\"flux (erg/s/Hz/cm$^{2}$) @ 10 pc\")\n",
    "\n",
    "plt.legend(loc='best')\n",
    "plt.xlim(0.07, 9)"
   ]
  },
  {
   "cell_type": "code",
   "execution_count": null,
   "metadata": {},
   "outputs": [],
   "source": []
  }
 ],
 "metadata": {
  "kernelspec": {
   "display_name": "tardis",
   "language": "python",
   "name": "python3"
  },
  "language_info": {
   "codemirror_mode": {
    "name": "ipython",
    "version": 3
   },
   "file_extension": ".py",
   "mimetype": "text/x-python",
   "name": "python",
   "nbconvert_exporter": "python",
   "pygments_lexer": "ipython3",
   "version": "3.11.5"
  }
 },
 "nbformat": 4,
 "nbformat_minor": 2
}
