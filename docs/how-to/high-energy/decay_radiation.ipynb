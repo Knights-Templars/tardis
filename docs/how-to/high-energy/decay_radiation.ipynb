{
  "cells": [
    {
      "cell_type": "markdown",
      "metadata": {},
      "source": [
        "# Generating and Documenting a Decay Composition\n",
        "\n",
        "This notebook provides an example workflow for:\n",
        "1. Reading a TARDIS configuration and model.\n",
        "2. Generating a new composition by applying nuclear decay.\n",
        "3. Retrieving and examining decay radiation data such as gamma-ray lines.\n",
        "\n",
        "It is intended as a reference on how to handle decay processes and gather the resulting radiation data in TARDIS."
      ]
    },
    {
      "cell_type": "code",
      "execution_count": 1,
      "metadata": {},
      "outputs": [
        {
          "name": "stderr",
          "output_type": "stream",
          "text": [
            "/Users/wkerzend/python/tardis/tardis/__init__.py:20: UserWarning: Astropy is already imported externally. Astropy should be imported after TARDIS.\n",
            "  warnings.warn(\n"
          ]
        },
        {
          "data": {
            "application/vnd.jupyter.widget-view+json": {
              "model_id": "30c2366664ca4255ab42e55483b8999e",
              "version_major": 2,
              "version_minor": 0
            },
            "text/plain": [
              "Iterations:          0/? [00:00<?, ?it/s]"
            ]
          },
          "metadata": {},
          "output_type": "display_data"
        },
        {
          "data": {
            "application/vnd.jupyter.widget-view+json": {
              "model_id": "fc7d078d50d14376bac712e54c496173",
              "version_major": 2,
              "version_minor": 0
            },
            "text/plain": [
              "Packets:             0/? [00:00<?, ?it/s]"
            ]
          },
          "metadata": {},
          "output_type": "display_data"
        }
      ],
      "source": [
        "# Step 1: Setup and Imports\n",
        "from pathlib import Path\n",
        "\n",
        "import astropy.units as u\n",
        "import pandas as pd\n",
        "\n",
        "from tardis.energy_input.gamma_ray_transport import get_decay_radiation_data\n",
        "from tardis.io.atom_data import AtomData\n",
        "from tardis.io.configuration import config_reader\n",
        "from tardis.model import SimulationState\n",
        "\n",
        "%matplotlib inline\n"
      ]
    },
    {
      "cell_type": "code",
      "execution_count": 2,
      "metadata": {},
      "outputs": [
        {
          "name": "stderr",
          "output_type": "stream",
          "text": [
            "INFO:tardis.io.atom_data.util:\n",
            "\tAtom Data kurucz_cd23_chianti_H_He.h5 not found in local path.\n",
            "\tExists in TARDIS Data repo /Users/wkerzend/projects/tardis/tardis-data/kurucz_cd23_chianti_H_He.h5\n",
            "INFO:tardis.io.atom_data.base:Reading Atom Data with: UUID = 6f7b09e887a311e7a06b246e96350010 MD5  = 864f1753714343c41f99cb065710cace \n",
            "INFO:tardis.io.atom_data.base:Non provided Atomic Data: synpp_refs, photoionization_data, yg_data, two_photon_data, linelist_atoms, linelist_molecules\n",
            "WARNING:tardis.io.model.parse_density_configuration:Number of density points larger than number of shells. Assuming inner point irrelevant\n",
            "WARNING:tardis.io.model.parse_mass_fraction_configuration:Mass fractions have not been normalized to 1. - normalizing\n"
          ]
        }
      ],
      "source": [
        "# Step 2: Load a Configuration and Atom Data\n",
        "# Provide a path to a suitable config file:\n",
        "config_file = Path(\"../../../tardis/io/configuration/tests/data/tardis_configv1_density_exponential_nebular_Ni_only.yml\")  # Example path\n",
        "config = config_reader.Configuration.from_yaml(config_file)\n",
        "\n",
        "# Provide a path to your Atom Data file:\n",
        "atom_data_file = \"kurucz_cd23_chianti_H_He.h5\"  # Example atom data\n",
        "atom_data = AtomData.from_hdf(atom_data_file)\n",
        "\n",
        "# Create a minimal SimulationState for demonstration:\n",
        "# (In a real workflow, TARDIS will build this more completely.)\n",
        "model = SimulationState.from_config(config, atom_data=atom_data)\n"
      ]
    },
    {
      "cell_type": "markdown",
      "metadata": {},
      "source": [
        "## Step 3: Apply Decay to Generate a New Composition\n",
        "Here we show how to evolve the composition by a certain time interval, reflecting radioactive decay."
      ]
    },
    {
      "cell_type": "code",
      "execution_count": 3,
      "id": "61170b80",
      "metadata": {},
      "outputs": [
        {
          "data": {
            "text/latex": [
              "$0 \\; \\mathrm{d}$"
            ],
            "text/plain": [
              "<Quantity 0. d>"
            ]
          },
          "execution_count": 3,
          "metadata": {},
          "output_type": "execute_result"
        }
      ],
      "source": [
        "model.composition.isotopic_mass_fraction.time_0"
      ]
    },
    {
      "cell_type": "code",
      "execution_count": 6,
      "metadata": {},
      "outputs": [
        {
          "name": "stderr",
          "output_type": "stream",
          "text": [
            "INFO:tardis.model.matter.decay:Decaying abundances for 74649600000.0 seconds\n"
          ]
        },
        {
          "data": {
            "text/html": [
              "<div>\n",
              "<style scoped>\n",
              "    .dataframe tbody tr th:only-of-type {\n",
              "        vertical-align: middle;\n",
              "    }\n",
              "\n",
              "    .dataframe tbody tr th {\n",
              "        vertical-align: top;\n",
              "    }\n",
              "\n",
              "    .dataframe thead th {\n",
              "        text-align: right;\n",
              "    }\n",
              "</style>\n",
              "<table border=\"1\" class=\"dataframe\">\n",
              "  <thead>\n",
              "    <tr style=\"text-align: right;\">\n",
              "      <th></th>\n",
              "      <th></th>\n",
              "      <th>0</th>\n",
              "      <th>1</th>\n",
              "      <th>2</th>\n",
              "      <th>3</th>\n",
              "      <th>4</th>\n",
              "      <th>5</th>\n",
              "      <th>6</th>\n",
              "      <th>7</th>\n",
              "      <th>8</th>\n",
              "      <th>9</th>\n",
              "      <th>10</th>\n",
              "      <th>11</th>\n",
              "      <th>12</th>\n",
              "      <th>13</th>\n",
              "      <th>14</th>\n",
              "      <th>15</th>\n",
              "      <th>16</th>\n",
              "      <th>17</th>\n",
              "      <th>18</th>\n",
              "      <th>19</th>\n",
              "    </tr>\n",
              "    <tr>\n",
              "      <th>atomic_number</th>\n",
              "      <th>mass_number</th>\n",
              "      <th></th>\n",
              "      <th></th>\n",
              "      <th></th>\n",
              "      <th></th>\n",
              "      <th></th>\n",
              "      <th></th>\n",
              "      <th></th>\n",
              "      <th></th>\n",
              "      <th></th>\n",
              "      <th></th>\n",
              "      <th></th>\n",
              "      <th></th>\n",
              "      <th></th>\n",
              "      <th></th>\n",
              "      <th></th>\n",
              "      <th></th>\n",
              "      <th></th>\n",
              "      <th></th>\n",
              "      <th></th>\n",
              "      <th></th>\n",
              "    </tr>\n",
              "  </thead>\n",
              "  <tbody>\n",
              "    <tr>\n",
              "      <th>26</th>\n",
              "      <th>56</th>\n",
              "      <td>0.479105</td>\n",
              "      <td>0.479105</td>\n",
              "      <td>0.479105</td>\n",
              "      <td>0.479105</td>\n",
              "      <td>0.479105</td>\n",
              "      <td>0.479105</td>\n",
              "      <td>0.479105</td>\n",
              "      <td>0.479105</td>\n",
              "      <td>0.479105</td>\n",
              "      <td>0.479105</td>\n",
              "      <td>0.479105</td>\n",
              "      <td>0.479105</td>\n",
              "      <td>0.479105</td>\n",
              "      <td>0.479105</td>\n",
              "      <td>0.479105</td>\n",
              "      <td>0.479105</td>\n",
              "      <td>0.479105</td>\n",
              "      <td>0.479105</td>\n",
              "      <td>0.479105</td>\n",
              "      <td>0.479105</td>\n",
              "    </tr>\n",
              "    <tr>\n",
              "      <th>27</th>\n",
              "      <th>56</th>\n",
              "      <td>0.000000</td>\n",
              "      <td>0.000000</td>\n",
              "      <td>0.000000</td>\n",
              "      <td>0.000000</td>\n",
              "      <td>0.000000</td>\n",
              "      <td>0.000000</td>\n",
              "      <td>0.000000</td>\n",
              "      <td>0.000000</td>\n",
              "      <td>0.000000</td>\n",
              "      <td>0.000000</td>\n",
              "      <td>0.000000</td>\n",
              "      <td>0.000000</td>\n",
              "      <td>0.000000</td>\n",
              "      <td>0.000000</td>\n",
              "      <td>0.000000</td>\n",
              "      <td>0.000000</td>\n",
              "      <td>0.000000</td>\n",
              "      <td>0.000000</td>\n",
              "      <td>0.000000</td>\n",
              "      <td>0.000000</td>\n",
              "    </tr>\n",
              "    <tr>\n",
              "      <th>28</th>\n",
              "      <th>56</th>\n",
              "      <td>0.000000</td>\n",
              "      <td>0.000000</td>\n",
              "      <td>0.000000</td>\n",
              "      <td>0.000000</td>\n",
              "      <td>0.000000</td>\n",
              "      <td>0.000000</td>\n",
              "      <td>0.000000</td>\n",
              "      <td>0.000000</td>\n",
              "      <td>0.000000</td>\n",
              "      <td>0.000000</td>\n",
              "      <td>0.000000</td>\n",
              "      <td>0.000000</td>\n",
              "      <td>0.000000</td>\n",
              "      <td>0.000000</td>\n",
              "      <td>0.000000</td>\n",
              "      <td>0.000000</td>\n",
              "      <td>0.000000</td>\n",
              "      <td>0.000000</td>\n",
              "      <td>0.000000</td>\n",
              "      <td>0.000000</td>\n",
              "    </tr>\n",
              "  </tbody>\n",
              "</table>\n",
              "</div>"
            ],
            "text/plain": [
              "                                 0         1         2         3         4   \\\n",
              "atomic_number mass_number                                                     \n",
              "26            56           0.479105  0.479105  0.479105  0.479105  0.479105   \n",
              "27            56           0.000000  0.000000  0.000000  0.000000  0.000000   \n",
              "28            56           0.000000  0.000000  0.000000  0.000000  0.000000   \n",
              "\n",
              "                                 5         6         7         8         9   \\\n",
              "atomic_number mass_number                                                     \n",
              "26            56           0.479105  0.479105  0.479105  0.479105  0.479105   \n",
              "27            56           0.000000  0.000000  0.000000  0.000000  0.000000   \n",
              "28            56           0.000000  0.000000  0.000000  0.000000  0.000000   \n",
              "\n",
              "                                 10        11        12        13        14  \\\n",
              "atomic_number mass_number                                                     \n",
              "26            56           0.479105  0.479105  0.479105  0.479105  0.479105   \n",
              "27            56           0.000000  0.000000  0.000000  0.000000  0.000000   \n",
              "28            56           0.000000  0.000000  0.000000  0.000000  0.000000   \n",
              "\n",
              "                                 15        16        17        18        19  \n",
              "atomic_number mass_number                                                    \n",
              "26            56           0.479105  0.479105  0.479105  0.479105  0.479105  \n",
              "27            56           0.000000  0.000000  0.000000  0.000000  0.000000  \n",
              "28            56           0.000000  0.000000  0.000000  0.000000  0.000000  "
            ]
          },
          "execution_count": 6,
          "metadata": {},
          "output_type": "execute_result"
        }
      ],
      "source": [
        "# Example: Advance the model time by 5 days\n",
        "time_interval = 10 * u.day\n",
        "\n",
        "# TARDIS can automatically decay the composition based on the isotopes present.\n",
        "# Here we show a typical call to decay methods:\n",
        "decayed_mass_fractions = model.composition.isotopic_mass_fraction.calculate_decayed_mass_fractions(time_interval.to(u.s).value)\n",
        "\n",
        "# Show the updated isotopic mass fractions:\n",
        "decayed_mass_fractions.head()"
      ]
    },
    {
      "cell_type": "markdown",
      "metadata": {},
      "source": [
        "## Step 4: Retrieve Decay Radiation Data\n",
        "The `atom_data` object includes lines and energies emitted during nuclear decay. We examine them here."
      ]
    },
    {
      "cell_type": "code",
      "execution_count": 16,
      "metadata": {},
      "outputs": [
        {
          "data": {
            "text/html": [
              "<div>\n",
              "<style scoped>\n",
              "    .dataframe tbody tr th:only-of-type {\n",
              "        vertical-align: middle;\n",
              "    }\n",
              "\n",
              "    .dataframe tbody tr th {\n",
              "        vertical-align: top;\n",
              "    }\n",
              "\n",
              "    .dataframe thead th {\n",
              "        text-align: right;\n",
              "    }\n",
              "</style>\n",
              "<table border=\"1\" class=\"dataframe\">\n",
              "  <thead>\n",
              "    <tr style=\"text-align: right;\">\n",
              "      <th></th>\n",
              "      <th></th>\n",
              "      <th>radiation_energy_kev</th>\n",
              "      <th>energy_per_decay_kev</th>\n",
              "      <th>radiation_type</th>\n",
              "    </tr>\n",
              "    <tr>\n",
              "      <th>atomic_number</th>\n",
              "      <th>mass_number</th>\n",
              "      <th></th>\n",
              "      <th></th>\n",
              "      <th></th>\n",
              "    </tr>\n",
              "  </thead>\n",
              "  <tbody>\n",
              "    <tr>\n",
              "      <th rowspan=\"5\" valign=\"top\">27</th>\n",
              "      <th>56</th>\n",
              "      <td>511.000</td>\n",
              "      <td>199.290000</td>\n",
              "      <td>Annihil.</td>\n",
              "    </tr>\n",
              "    <tr>\n",
              "      <th>56</th>\n",
              "      <td>6.404</td>\n",
              "      <td>0.928580</td>\n",
              "      <td>XR ka1</td>\n",
              "    </tr>\n",
              "    <tr>\n",
              "      <th>56</th>\n",
              "      <td>6.391</td>\n",
              "      <td>0.466543</td>\n",
              "      <td>XR ka2</td>\n",
              "    </tr>\n",
              "    <tr>\n",
              "      <th>56</th>\n",
              "      <td>7.058</td>\n",
              "      <td>0.121398</td>\n",
              "      <td>XR kb1</td>\n",
              "    </tr>\n",
              "    <tr>\n",
              "      <th>56</th>\n",
              "      <td>7.058</td>\n",
              "      <td>0.062110</td>\n",
              "      <td>XR kb3</td>\n",
              "    </tr>\n",
              "  </tbody>\n",
              "</table>\n",
              "</div>"
            ],
            "text/plain": [
              "                           radiation_energy_kev  energy_per_decay_kev  \\\n",
              "atomic_number mass_number                                               \n",
              "27            56                        511.000            199.290000   \n",
              "              56                          6.404              0.928580   \n",
              "              56                          6.391              0.466543   \n",
              "              56                          7.058              0.121398   \n",
              "              56                          7.058              0.062110   \n",
              "\n",
              "                          radiation_type  \n",
              "atomic_number mass_number                 \n",
              "27            56                Annihil.  \n",
              "              56                  XR ka1  \n",
              "              56                  XR ka2  \n",
              "              56                  XR kb1  \n",
              "              56                  XR kb3  "
            ]
          },
          "metadata": {},
          "output_type": "display_data"
        },
        {
          "data": {
            "text/html": [
              "<div>\n",
              "<style scoped>\n",
              "    .dataframe tbody tr th:only-of-type {\n",
              "        vertical-align: middle;\n",
              "    }\n",
              "\n",
              "    .dataframe tbody tr th {\n",
              "        vertical-align: top;\n",
              "    }\n",
              "\n",
              "    .dataframe thead th {\n",
              "        text-align: right;\n",
              "    }\n",
              "</style>\n",
              "<table border=\"1\" class=\"dataframe\">\n",
              "  <thead>\n",
              "    <tr style=\"text-align: right;\">\n",
              "      <th></th>\n",
              "      <th></th>\n",
              "      <th>radiation_energy_kev</th>\n",
              "      <th>energy_per_decay_kev</th>\n",
              "      <th>radiation_type</th>\n",
              "    </tr>\n",
              "    <tr>\n",
              "      <th>atomic_number</th>\n",
              "      <th>mass_number</th>\n",
              "      <th></th>\n",
              "      <th></th>\n",
              "      <th></th>\n",
              "    </tr>\n",
              "  </thead>\n",
              "  <tbody>\n",
              "    <tr>\n",
              "      <th rowspan=\"5\" valign=\"top\">27</th>\n",
              "      <th>56</th>\n",
              "      <td>45.3</td>\n",
              "      <td>0.003715</td>\n",
              "      <td>NaN</td>\n",
              "    </tr>\n",
              "    <tr>\n",
              "      <th>56</th>\n",
              "      <td>76.7</td>\n",
              "      <td>0.000046</td>\n",
              "      <td>NaN</td>\n",
              "    </tr>\n",
              "    <tr>\n",
              "      <th>56</th>\n",
              "      <td>178.7</td>\n",
              "      <td>1.860267</td>\n",
              "      <td>NaN</td>\n",
              "    </tr>\n",
              "    <tr>\n",
              "      <th>56</th>\n",
              "      <td>247.1</td>\n",
              "      <td>0.016556</td>\n",
              "      <td>NaN</td>\n",
              "    </tr>\n",
              "    <tr>\n",
              "      <th>56</th>\n",
              "      <td>631.2</td>\n",
              "      <td>116.140800</td>\n",
              "      <td>NaN</td>\n",
              "    </tr>\n",
              "  </tbody>\n",
              "</table>\n",
              "</div>"
            ],
            "text/plain": [
              "                           radiation_energy_kev  energy_per_decay_kev  \\\n",
              "atomic_number mass_number                                               \n",
              "27            56                           45.3              0.003715   \n",
              "              56                           76.7              0.000046   \n",
              "              56                          178.7              1.860267   \n",
              "              56                          247.1              0.016556   \n",
              "              56                          631.2            116.140800   \n",
              "\n",
              "                          radiation_type  \n",
              "atomic_number mass_number                 \n",
              "27            56                     NaN  \n",
              "              56                     NaN  \n",
              "              56                     NaN  \n",
              "              56                     NaN  \n",
              "              56                     NaN  "
            ]
          },
          "metadata": {},
          "output_type": "display_data"
        }
      ],
      "source": [
        "# Retrieve decay radiation data:\n",
        "em_radiation_data, bp_radiation_data = get_decay_radiation_data(\n",
        "    atom_data.decay_radiation_data, model.composition.isotopic_mass_fraction.index\n",
        ")\n",
        "\n",
        "display(em_radiation_data.head())\n",
        "display(bp_radiation_data.head())\n",
        "\n",
        "\n"
      ]
    },
    {
      "cell_type": "markdown",
      "metadata": {},
      "source": [
        "## Step 5: Inspecting Gamma-Ray Lines\n",
        "With `gamma_ray_line_dict`, you can explore the line energies and intensities that result from the decaying isotopes in your model."
      ]
    },
    {
      "cell_type": "code",
      "execution_count": null,
      "metadata": {},
      "outputs": [],
      "source": [
        "# Example preview of gamma-ray lines:\n",
        "pd.DataFrame.from_dict(gamma_ray_line_dict, orient='index').head()"
      ]
    },
    {
      "cell_type": "markdown",
      "metadata": {},
      "source": [
        "## Conclusion\n",
        "This notebook has demonstrated how to:\n",
        "1. Load a TARDIS model and atom data.\n",
        "2. Apply radioactive decay to the composition.\n",
        "3. Retrieve and inspect the decay-related energies and lines.\n",
        "\n",
        "Use this script as a foundation for your own deeper investigations into nebular or high-energy phenomena in TARDIS!"
      ]
    }
  ],
  "metadata": {
    "kernelspec": {
      "display_name": "tardis-devel",
      "language": "python",
      "name": "python3"
    },
    "language_info": {
      "codemirror_mode": {
        "name": "ipython",
        "version": 3
      },
      "file_extension": ".py",
      "mimetype": "text/x-python",
      "name": "python",
      "nbconvert_exporter": "python",
      "pygments_lexer": "ipython3",
      "version": "3.12.4"
    }
  },
  "nbformat": 4,
  "nbformat_minor": 5
}
