{
  "cells": [
    {
      "cell_type": "markdown",
      "metadata": {},
      "source": [
        "# Generating and Documenting a Decay Composition\n",
        "\n",
        "This notebook provides an example workflow for:\n",
        "1. Reading a TARDIS configuration and model.\n",
        "2. Generating a new composition by applying nuclear decay.\n",
        "3. Retrieving and examining decay radiation data such as gamma-ray lines.\n",
        "\n",
        "It is intended as a reference on how to handle decay processes and gather the resulting radiation data in TARDIS."
      ]
    },
    {
      "cell_type": "code",
      "execution_count": 2,
      "metadata": {},
      "outputs": [
        {
          "name": "stderr",
          "output_type": "stream",
          "text": [
            "/Users/wkerzend/python/tardis/tardis/__init__.py:20: UserWarning: Astropy is already imported externally. Astropy should be imported after TARDIS.\n",
            "  warnings.warn(\n"
          ]
        },
        {
          "data": {
            "application/vnd.jupyter.widget-view+json": {
              "model_id": "bf9190eb231746b6b09f793faa4f11c7",
              "version_major": 2,
              "version_minor": 0
            },
            "text/plain": [
              "Iterations:          0/? [00:00<?, ?it/s]"
            ]
          },
          "metadata": {},
          "output_type": "display_data"
        },
        {
          "data": {
            "application/vnd.jupyter.widget-view+json": {
              "model_id": "a438d909701342eea6c7b9247b0cfee8",
              "version_major": 2,
              "version_minor": 0
            },
            "text/plain": [
              "Packets:             0/? [00:00<?, ?it/s]"
            ]
          },
          "metadata": {},
          "output_type": "display_data"
        }
      ],
      "source": [
        "# Step 1: Setup and Imports\n",
        "import astropy.units as u\n",
        "import numpy as np\n",
        "import pandas as pd\n",
        "\n",
        "from tardis.energy_input.decay_radiation import get_decay_radiation_data\n",
        "from tardis.io.atom_data import AtomData\n",
        "from tardis.model.matter import Composition\n",
        "\n",
        "%matplotlib inline\n"
      ]
    },
    {
      "cell_type": "code",
      "execution_count": 3,
      "metadata": {},
      "outputs": [
        {
          "data": {
            "text/latex": [
              "$[1] \\; \\mathrm{\\frac{g}{cm^{3}}}$"
            ],
            "text/plain": [
              "<Quantity [1.] g / cm3>"
            ]
          },
          "execution_count": 3,
          "metadata": {},
          "output_type": "execute_result"
        }
      ],
      "source": [
        "# Step 2: Load a Configuration and Atom Data\n",
        "\n",
        "# Provide a path to your Atom Data file:\n",
        "atom_data_file = \"kurucz_cd23_chianti_H_He.h5\"  # Example atom data\n",
        "atom_data = AtomData.from_hdf(atom_data_file)\n",
        "\n",
        "# Create a new Composition object with 1 g/cm^3 density in a single shell of pure Ni-56\n",
        "# (In a real workflow, TARDIS will build this more completely.)\n",
        "nuclide_index = pd.MultiIndex.from_tuples([(28, 56)], names=[\"atomic_number\",\"mass_number\"])\n",
        "\n",
        "composition = Composition(\n",
        "    nuclide_mass_fraction=pd.DataFrame({0: [1.0]}, index=nuclide_index),\n",
        "    density=[1.0] * (u.g / (u.cm**3)),\n",
        "    element_masses=atom_data.atom_data.mass.copy(),\n",
        ")\n",
        "\n",
        "composition.density\n",
        "\n",
        "\n"
      ]
    },
    {
      "cell_type": "markdown",
      "id": "818bc553",
      "metadata": {},
      "source": [
        "## Step 3: Apply Decay to Generate a New Composition\n",
        "Here we show how to evolve the composition by a certain time interval, reflecting radioactive decay."
      ]
    },
    {
      "cell_type": "code",
      "execution_count": 4,
      "metadata": {},
      "outputs": [
        {
          "data": {
            "text/html": [
              "<div>\n",
              "<style scoped>\n",
              "    .dataframe tbody tr th:only-of-type {\n",
              "        vertical-align: middle;\n",
              "    }\n",
              "\n",
              "    .dataframe tbody tr th {\n",
              "        vertical-align: top;\n",
              "    }\n",
              "\n",
              "    .dataframe thead th {\n",
              "        text-align: right;\n",
              "    }\n",
              "</style>\n",
              "<table border=\"1\" class=\"dataframe\">\n",
              "  <thead>\n",
              "    <tr style=\"text-align: right;\">\n",
              "      <th></th>\n",
              "      <th></th>\n",
              "      <th>0</th>\n",
              "    </tr>\n",
              "    <tr>\n",
              "      <th>atomic_number</th>\n",
              "      <th>mass_number</th>\n",
              "      <th></th>\n",
              "    </tr>\n",
              "  </thead>\n",
              "  <tbody>\n",
              "    <tr>\n",
              "      <th>26</th>\n",
              "      <th>56</th>\n",
              "      <td>0.001889</td>\n",
              "    </tr>\n",
              "    <tr>\n",
              "      <th>27</th>\n",
              "      <th>56</th>\n",
              "      <td>0.202135</td>\n",
              "    </tr>\n",
              "    <tr>\n",
              "      <th>28</th>\n",
              "      <th>56</th>\n",
              "      <td>0.795968</td>\n",
              "    </tr>\n",
              "  </tbody>\n",
              "</table>\n",
              "</div>"
            ],
            "text/plain": [
              "                                  0\n",
              "atomic_number mass_number          \n",
              "26            56           0.001889\n",
              "27            56           0.202135\n",
              "28            56           0.795968"
            ]
          },
          "execution_count": 4,
          "metadata": {},
          "output_type": "execute_result"
        }
      ],
      "source": [
        "# Example: Advance the model time by 5 days\n",
        "time_epoch = 2 * u.day\n",
        "\n",
        "# TARDIS can automatically decay the composition based on the isotopes present.\n",
        "# Here we show a typical call to decay methods:\n",
        "decayed_mass_fractions = composition.isotopic_mass_fraction.calculate_decayed_mass_fractions(time_epoch)\n",
        "\n",
        "# Show the updated isotopic mass fractions:\n",
        "decayed_mass_fractions.head()"
      ]
    },
    {
      "cell_type": "markdown",
      "metadata": {},
      "source": [
        "## Step 4: Retrieve Decay Radiation Data\n",
        "The `atom_data` object includes lines and energies emitted during nuclear decay. We examine them here."
      ]
    },
    {
      "cell_type": "code",
      "execution_count": 5,
      "metadata": {},
      "outputs": [
        {
          "data": {
            "text/html": [
              "<div>\n",
              "<style scoped>\n",
              "    .dataframe tbody tr th:only-of-type {\n",
              "        vertical-align: middle;\n",
              "    }\n",
              "\n",
              "    .dataframe tbody tr th {\n",
              "        vertical-align: top;\n",
              "    }\n",
              "\n",
              "    .dataframe thead th {\n",
              "        text-align: right;\n",
              "    }\n",
              "</style>\n",
              "<table border=\"1\" class=\"dataframe\">\n",
              "  <thead>\n",
              "    <tr style=\"text-align: right;\">\n",
              "      <th></th>\n",
              "      <th></th>\n",
              "      <th></th>\n",
              "      <th>radiation_energy_kev</th>\n",
              "      <th>energy_per_decay_kev</th>\n",
              "      <th>radiation_type</th>\n",
              "    </tr>\n",
              "    <tr>\n",
              "      <th>atomic_number</th>\n",
              "      <th>mass_number</th>\n",
              "      <th>channel_id</th>\n",
              "      <th></th>\n",
              "      <th></th>\n",
              "      <th></th>\n",
              "    </tr>\n",
              "  </thead>\n",
              "  <tbody>\n",
              "    <tr>\n",
              "      <th rowspan=\"5\" valign=\"top\">27</th>\n",
              "      <th rowspan=\"5\" valign=\"top\">56</th>\n",
              "      <th>27</th>\n",
              "      <td>511.000</td>\n",
              "      <td>199.290000</td>\n",
              "      <td>Annihil.</td>\n",
              "    </tr>\n",
              "    <tr>\n",
              "      <th>28</th>\n",
              "      <td>6.404</td>\n",
              "      <td>0.928580</td>\n",
              "      <td>XR ka1</td>\n",
              "    </tr>\n",
              "    <tr>\n",
              "      <th>29</th>\n",
              "      <td>6.391</td>\n",
              "      <td>0.466543</td>\n",
              "      <td>XR ka2</td>\n",
              "    </tr>\n",
              "    <tr>\n",
              "      <th>30</th>\n",
              "      <td>7.058</td>\n",
              "      <td>0.121398</td>\n",
              "      <td>XR kb1</td>\n",
              "    </tr>\n",
              "    <tr>\n",
              "      <th>31</th>\n",
              "      <td>7.058</td>\n",
              "      <td>0.062110</td>\n",
              "      <td>XR kb3</td>\n",
              "    </tr>\n",
              "  </tbody>\n",
              "</table>\n",
              "</div>"
            ],
            "text/plain": [
              "                                      radiation_energy_kev  \\\n",
              "atomic_number mass_number channel_id                         \n",
              "27            56          27                       511.000   \n",
              "                          28                         6.404   \n",
              "                          29                         6.391   \n",
              "                          30                         7.058   \n",
              "                          31                         7.058   \n",
              "\n",
              "                                      energy_per_decay_kev radiation_type  \n",
              "atomic_number mass_number channel_id                                       \n",
              "27            56          27                    199.290000       Annihil.  \n",
              "                          28                      0.928580         XR ka1  \n",
              "                          29                      0.466543         XR ka2  \n",
              "                          30                      0.121398         XR kb1  \n",
              "                          31                      0.062110         XR kb3  "
            ]
          },
          "metadata": {},
          "output_type": "display_data"
        },
        {
          "data": {
            "text/html": [
              "<div>\n",
              "<style scoped>\n",
              "    .dataframe tbody tr th:only-of-type {\n",
              "        vertical-align: middle;\n",
              "    }\n",
              "\n",
              "    .dataframe tbody tr th {\n",
              "        vertical-align: top;\n",
              "    }\n",
              "\n",
              "    .dataframe thead th {\n",
              "        text-align: right;\n",
              "    }\n",
              "</style>\n",
              "<table border=\"1\" class=\"dataframe\">\n",
              "  <thead>\n",
              "    <tr style=\"text-align: right;\">\n",
              "      <th></th>\n",
              "      <th></th>\n",
              "      <th></th>\n",
              "      <th>radiation_energy_kev</th>\n",
              "      <th>energy_per_decay_kev</th>\n",
              "      <th>radiation_type</th>\n",
              "    </tr>\n",
              "    <tr>\n",
              "      <th>atomic_number</th>\n",
              "      <th>mass_number</th>\n",
              "      <th>channel_id</th>\n",
              "      <th></th>\n",
              "      <th></th>\n",
              "      <th></th>\n",
              "    </tr>\n",
              "  </thead>\n",
              "  <tbody>\n",
              "    <tr>\n",
              "      <th rowspan=\"5\" valign=\"top\">27</th>\n",
              "      <th rowspan=\"5\" valign=\"top\">56</th>\n",
              "      <th>0</th>\n",
              "      <td>45.3</td>\n",
              "      <td>0.003715</td>\n",
              "      <td>NaN</td>\n",
              "    </tr>\n",
              "    <tr>\n",
              "      <th>1</th>\n",
              "      <td>76.7</td>\n",
              "      <td>0.000046</td>\n",
              "      <td>NaN</td>\n",
              "    </tr>\n",
              "    <tr>\n",
              "      <th>2</th>\n",
              "      <td>178.7</td>\n",
              "      <td>1.860267</td>\n",
              "      <td>NaN</td>\n",
              "    </tr>\n",
              "    <tr>\n",
              "      <th>3</th>\n",
              "      <td>247.1</td>\n",
              "      <td>0.016556</td>\n",
              "      <td>NaN</td>\n",
              "    </tr>\n",
              "    <tr>\n",
              "      <th>4</th>\n",
              "      <td>631.2</td>\n",
              "      <td>116.140800</td>\n",
              "      <td>NaN</td>\n",
              "    </tr>\n",
              "  </tbody>\n",
              "</table>\n",
              "</div>"
            ],
            "text/plain": [
              "                                      radiation_energy_kev  \\\n",
              "atomic_number mass_number channel_id                         \n",
              "27            56          0                           45.3   \n",
              "                          1                           76.7   \n",
              "                          2                          178.7   \n",
              "                          3                          247.1   \n",
              "                          4                          631.2   \n",
              "\n",
              "                                      energy_per_decay_kev radiation_type  \n",
              "atomic_number mass_number channel_id                                       \n",
              "27            56          0                       0.003715            NaN  \n",
              "                          1                       0.000046            NaN  \n",
              "                          2                       1.860267            NaN  \n",
              "                          3                       0.016556            NaN  \n",
              "                          4                     116.140800            NaN  "
            ]
          },
          "metadata": {},
          "output_type": "display_data"
        },
        {
          "data": {
            "text/plain": [
              "radiation_energy_kev       158.38\n",
              "energy_per_decay_kev    156.47944\n",
              "radiation_type                NaN\n",
              "Name: (28, 56, 12), dtype: object"
            ]
          },
          "execution_count": 5,
          "metadata": {},
          "output_type": "execute_result"
        }
      ],
      "source": [
        "# Retrieve decay radiation data:\n",
        "em_radiation_data, bp_radiation_data = get_decay_radiation_data(\n",
        "    atom_data.decay_radiation_data, composition.isotopic_mass_fraction.index\n",
        ")\n",
        "\n",
        "display(em_radiation_data.head())\n",
        "display(bp_radiation_data.head())\n",
        "\n",
        "## Confer Dutta et al. 2025 Table 1 for the decay data used here\n",
        "em_radiation_data.loc[28, 56,12]\n"
      ]
    },
    {
      "cell_type": "markdown",
      "id": "14e0a458",
      "metadata": {},
      "source": [
        "## Step 5: Calculate Number of Decays\n",
        "We can also calculate the number of decays over a given time period for each shell.\n",
        "This can be useful for understanding the decay process in more detail."
      ]
    },
    {
      "cell_type": "code",
      "execution_count": 6,
      "id": "e8b9ad2b",
      "metadata": {},
      "outputs": [
        {
          "data": {
            "text/html": [
              "<div>\n",
              "<style scoped>\n",
              "    .dataframe tbody tr th:only-of-type {\n",
              "        vertical-align: middle;\n",
              "    }\n",
              "\n",
              "    .dataframe tbody tr th {\n",
              "        vertical-align: top;\n",
              "    }\n",
              "\n",
              "    .dataframe thead th {\n",
              "        text-align: right;\n",
              "    }\n",
              "</style>\n",
              "<table border=\"1\" class=\"dataframe\">\n",
              "  <thead>\n",
              "    <tr style=\"text-align: right;\">\n",
              "      <th></th>\n",
              "      <th>cell_id</th>\n",
              "      <th>0</th>\n",
              "    </tr>\n",
              "    <tr>\n",
              "      <th>atomic_number</th>\n",
              "      <th>mass_number</th>\n",
              "      <th></th>\n",
              "    </tr>\n",
              "  </thead>\n",
              "  <tbody>\n",
              "    <tr>\n",
              "      <th>27</th>\n",
              "      <th>56</th>\n",
              "      <td>2.545038e+48</td>\n",
              "    </tr>\n",
              "    <tr>\n",
              "      <th>28</th>\n",
              "      <th>56</th>\n",
              "      <td>1.241517e+50</td>\n",
              "    </tr>\n",
              "  </tbody>\n",
              "</table>\n",
              "</div>"
            ],
            "text/plain": [
              "cell_id                               0\n",
              "atomic_number mass_number              \n",
              "27            56           2.545038e+48\n",
              "28            56           1.241517e+50"
            ]
          },
          "execution_count": 6,
          "metadata": {},
          "output_type": "execute_result"
        }
      ],
      "source": [
        "# using volume to be consistent with Dutta et al. 2025\n",
        "volume = (1.3545205e30) * u.cm**3\n",
        "cell_masses = composition.calculate_cell_masses(volume)\n",
        "# Example: Calculate the number of decays over  0.09 days (cf. Dutta et al. 2025 Table 1)\n",
        "number_of_decays = decayed_mass_fractions.calculate_number_of_decays(0.094257 * u.day, cell_masses)\n",
        "\n",
        "# Show the number of decays:\n",
        "number_of_decays.head()\n"
      ]
    },
    {
      "cell_type": "markdown",
      "id": "df0d9add",
      "metadata": {},
      "source": [
        "## Step 6: Summarize Decay Energies\n",
        "\n",
        "In this cell, we multiply the energy emitted per decay (in keV)\n",
        "by the number of decays in each shell to determine the total\n",
        "energy (in keV) contributed by nuclear decay per channel in each shell.\n",
        "Just like the previous steps, we display the result as a DataFrame\n",
        "indexed by isotopes and with columns representing the shells."
      ]
    },
    {
      "cell_type": "code",
      "execution_count": 7,
      "id": "17b27519",
      "metadata": {},
      "outputs": [
        {
          "data": {
            "text/plain": [
              "cell_id\n",
              "0    1.942718e+52\n",
              "Name: (28, 56, 12), dtype: float64"
            ]
          },
          "execution_count": 7,
          "metadata": {},
          "output_type": "execute_result"
        }
      ],
      "source": [
        "decay_energy = pd.DataFrame(\n",
        "    em_radiation_data[\"energy_per_decay_kev\"].values[:, None]\n",
        "    * number_of_decays.reindex(em_radiation_data.index.droplevel(2)).values,\n",
        "    index=em_radiation_data.index,\n",
        "    columns=number_of_decays.columns\n",
        ")\n",
        "\n",
        "#display(decay_energy.head())\n",
        "## Confer Dutta et al. 2025 Table 1 for the decay data used here\n",
        "decay_energy.loc[28, 56, 12]\n"
      ]
    },
    {
      "cell_type": "code",
      "execution_count": 8,
      "id": "218f80c6",
      "metadata": {},
      "outputs": [],
      "source": [
        "\n",
        "time_start = 2 * u.day\n",
        "decayed_mass_fractions = composition.isotopic_mass_fraction.calculate_decayed_mass_fractions(time_start)\n",
        "all_decay_energy = []\n",
        "for time in np.linspace(time_start, 200 * u.day, 200):\n",
        "    time_delta = 1 * u.day\n",
        "    decayed_mass_fractions = decayed_mass_fractions.calculate_decayed_mass_fractions(time_delta)\n",
        "    number_of_decays = decayed_mass_fractions.calculate_number_of_decays(time_delta, cell_masses)\n",
        "    all_decay_energy.append(pd.DataFrame(\n",
        "        em_radiation_data[\"energy_per_decay_kev\"].values[:, None]\n",
        "        * number_of_decays.reindex(em_radiation_data.index.droplevel(2)).values,\n",
        "        index=em_radiation_data.index))\n",
        "\n",
        "x = pd.concat(all_decay_energy)"
      ]
    },
    {
      "cell_type": "code",
      "execution_count": 11,
      "id": "bc09e086",
      "metadata": {},
      "outputs": [
        {
          "data": {
            "text/html": [
              "<div>\n",
              "<style scoped>\n",
              "    .dataframe tbody tr th:only-of-type {\n",
              "        vertical-align: middle;\n",
              "    }\n",
              "\n",
              "    .dataframe tbody tr th {\n",
              "        vertical-align: top;\n",
              "    }\n",
              "\n",
              "    .dataframe thead th {\n",
              "        text-align: right;\n",
              "    }\n",
              "</style>\n",
              "<table border=\"1\" class=\"dataframe\">\n",
              "  <thead>\n",
              "    <tr style=\"text-align: right;\">\n",
              "      <th></th>\n",
              "      <th></th>\n",
              "      <th></th>\n",
              "      <th>0</th>\n",
              "    </tr>\n",
              "    <tr>\n",
              "      <th>atomic_number</th>\n",
              "      <th>mass_number</th>\n",
              "      <th>channel_id</th>\n",
              "      <th></th>\n",
              "    </tr>\n",
              "  </thead>\n",
              "  <tbody>\n",
              "    <tr>\n",
              "      <th>28</th>\n",
              "      <th>56</th>\n",
              "      <th>15</th>\n",
              "      <td>4.144926e+53</td>\n",
              "    </tr>\n",
              "    <tr>\n",
              "      <th rowspan=\"10\" valign=\"top\">27</th>\n",
              "      <th rowspan=\"10\" valign=\"top\">56</th>\n",
              "      <th>51</th>\n",
              "      <td>8.667681e+52</td>\n",
              "    </tr>\n",
              "    <tr>\n",
              "      <th>62</th>\n",
              "      <td>1.372503e+52</td>\n",
              "    </tr>\n",
              "    <tr>\n",
              "      <th>51</th>\n",
              "      <td>8.489408e+52</td>\n",
              "    </tr>\n",
              "    <tr>\n",
              "      <th>40</th>\n",
              "      <td>4.580369e+52</td>\n",
              "    </tr>\n",
              "    <tr>\n",
              "      <th>...</th>\n",
              "      <td>...</td>\n",
              "    </tr>\n",
              "    <tr>\n",
              "      <th>78</th>\n",
              "      <td>1.940563e+49</td>\n",
              "    </tr>\n",
              "    <tr>\n",
              "      <th>41</th>\n",
              "      <td>1.228449e+49</td>\n",
              "    </tr>\n",
              "    <tr>\n",
              "      <th>35</th>\n",
              "      <td>9.842633e+48</td>\n",
              "    </tr>\n",
              "    <tr>\n",
              "      <th>35</th>\n",
              "      <td>8.917336e+48</td>\n",
              "    </tr>\n",
              "    <tr>\n",
              "      <th>37</th>\n",
              "      <td>8.316877e+48</td>\n",
              "    </tr>\n",
              "  </tbody>\n",
              "</table>\n",
              "<p>10000 rows × 1 columns</p>\n",
              "</div>"
            ],
            "text/plain": [
              "                                                 0\n",
              "atomic_number mass_number channel_id              \n",
              "28            56          15          4.144926e+53\n",
              "27            56          51          8.667681e+52\n",
              "                          62          1.372503e+52\n",
              "                          51          8.489408e+52\n",
              "                          40          4.580369e+52\n",
              "...                                            ...\n",
              "                          78          1.940563e+49\n",
              "                          41          1.228449e+49\n",
              "                          35          9.842633e+48\n",
              "                          35          8.917336e+48\n",
              "                          37          8.316877e+48\n",
              "\n",
              "[10000 rows x 1 columns]"
            ]
          },
          "execution_count": 11,
          "metadata": {},
          "output_type": "execute_result"
        }
      ],
      "source": [
        "x.sample(weights=x[0], n=10000)"
      ]
    },
    {
      "cell_type": "markdown",
      "metadata": {},
      "source": [
        "## Conclusion\n",
        "This notebook has demonstrated how to:\n",
        "1. Load a TARDIS model and atom data.\n",
        "2. Apply radioactive decay to the composition.\n",
        "3. Retrieve and inspect the decay-related energies and lines.\n",
        "\n",
        "Use this script as a foundation for your own deeper investigations into nebular or high-energy phenomena in TARDIS!"
      ]
    }
  ],
  "metadata": {
    "kernelspec": {
      "display_name": "tardis-devel",
      "language": "python",
      "name": "python3"
    },
    "language_info": {
      "codemirror_mode": {
        "name": "ipython",
        "version": 3
      },
      "file_extension": ".py",
      "mimetype": "text/x-python",
      "name": "python",
      "nbconvert_exporter": "python",
      "pygments_lexer": "ipython3",
      "version": "3.12.4"
    }
  },
  "nbformat": 4,
  "nbformat_minor": 5
}
